{
 "cells": [
  {
   "cell_type": "markdown",
   "metadata": {},
   "source": [
    "# Administration of Glowing Bear data warehouse with the Python client\n",
    "---------------\n",
    "\n",
    "Interacting with the data in the [tranSMART Glowing Bear data warehouse](https://glowingbear.app) via the [REST API](https://glowingbear.app/docs/technical/#transmart-api) and the [Python client](https://github.com/thehyve/transmart-api-client-py) into the Jupyter Notebook analytical environment.\n",
    "\n",
    "Note that you need admin rights on the tranSMART Glowing Bear server to execute the below calls."
   ]
  },
  {
   "cell_type": "code",
   "execution_count": 4,
   "metadata": {},
   "outputs": [
    {
     "name": "stdout",
     "output_type": "stream",
     "text": [
      "transmart python client version: 0.2.4\n"
     ]
    }
   ],
   "source": [
    "import transmart as tm\n",
    "print('transmart python client version: {}'.format(tm.__version__))"
   ]
  },
  {
   "cell_type": "markdown",
   "metadata": {},
   "source": [
    "Generate an offline token for your user:"
   ]
  },
  {
   "cell_type": "code",
   "execution_count": 5,
   "metadata": {},
   "outputs": [
    {
     "data": {
      "text/plain": [
       "'eyJhbGciOiJSUzI1NiIsInR5cCIgOiAiSldUIiwia2lkIiA6ICJKREJWbTE4TWM3V181d2V0WlI1OUN1RU5WMzd1dEF1VXdsNm9mcjlscmU0In0.eyJqdGkiOiIwYThkZWU1Ni1jMzM3LTRmNWItODI0Zi0xOThiYWFlYTM5NTYiLCJleHAiOjAsIm5iZiI6MCwiaWF0IjoxNTYyMTQwMjMyLCJpc3MiOiJodHRwczovL2tleWNsb2FrLWR3aC10ZXN0LnRoZWh5dmUubmV0L2F1dGgvcmVhbG1zL3RyYW5zbWFydCIsImF1ZCI6InRyYW5zbWFydC1jbGllbnQiLCJzdWIiOiI3YjU2MGI5NS1iNjM0LTQ5YzYtYjRkYi1kMWM2MjhmOWQzNjMiLCJ0eXAiOiJPZmZsaW5lIiwiYXpwIjoidHJhbnNtYXJ0LWNsaWVudCIsImF1dGhfdGltZSI6MCwic2Vzc2lvbl9zdGF0ZSI6ImE2NjAxODdhLTk4ZGYtNGUyMS05OTVmLWJkMTk5OGM1Yjc5YiIsInJlYWxtX2FjY2VzcyI6eyJyb2xlcyI6WyJvZmZsaW5lX2FjY2VzcyIsInVtYV9hdXRob3JpemF0aW9uIl19LCJyZXNvdXJjZV9hY2Nlc3MiOnsiYWNjb3VudCI6eyJyb2xlcyI6WyJtYW5hZ2UtYWNjb3VudCIsIm1hbmFnZS1hY2NvdW50LWxpbmtzIiwidmlldy1wcm9maWxlIl19fX0.R7280jvdyWaQGmAWa0uNsnCBIDtFUuNQbijJHqst6Mu-R9SFi7c3h3rd_0ZqTVHNWXuNBS65uTaOTnI3H7PZOhNC5fg4kY6v8SXgb3u5Rwd3Ug1A23oevXOoaYLwbXxH1QdtA1XH9aCp5C89rHa3dBeVr7gFp_hc7QggnBkGt5i0cW47NZR_vjHtBEunfbiD90Gfgg3G-LKMeaqhNZytJAPYIpaSb0NIwHWyTJWGyiBHHyt0qR5bdUh5Aep7cb-cLMlSEHDKxLu3WxW1FDrkY_JA9h49zYo9eeUpSSg9xbH4V9BCzYU4zMqAyX4k2OBBaa4iBAfa_Dt_-ryzHUpi_w'"
      ]
     },
     "execution_count": 5,
     "metadata": {},
     "output_type": "execute_result"
    }
   ],
   "source": [
    "import requests\n",
    "\n",
    "# Keycloak credentials you also use to access Glowing Bear\n",
    "user = None\n",
    "password = None\n",
    "kc_token_url = \"https://keycloak-dwh-test.thehyve.net/auth/realms/transmart/protocol/openid-connect/token\"\n",
    "kc_client_id= \"transmart-client\"\n",
    "\n",
    "r = requests.post(url=kc_token_url,\n",
    "                  data=dict(grant_type='password',\n",
    "                            client_id=kc_client_id,\n",
    "                            scope= 'offline_access',\n",
    "                            username=user,\n",
    "                            password=password\n",
    "                           )\n",
    "                 )\n",
    "offline_token = r.json().get('refresh_token')\n",
    "offline_token"
   ]
  },
  {
   "cell_type": "markdown",
   "metadata": {},
   "source": [
    "Connect to the tranSMART Glowing Bear server:"
   ]
  },
  {
   "cell_type": "code",
   "execution_count": 6,
   "metadata": {},
   "outputs": [
    {
     "name": "stdout",
     "output_type": "stream",
     "text": [
      "https://transmart.thehyve.net/v2/studies\n",
      "https://transmart.thehyve.net/v2/tree_nodes?depth=0&counts=False&tags=True\n",
      "Existing index cache found. Loaded 10263 tree nodes. Hooray!\n",
      "https://transmart.thehyve.net/v2/pedigree/relation_types\n"
     ]
    }
   ],
   "source": [
    "api = tm.get_api(\n",
    "    host = 'https://transmart.thehyve.net', # URL of tranSMART server connected to your Glowing Bear\n",
    "    kc_url = \"https://keycloak-dwh-test.thehyve.net\", # URL of Keycloak connected to your Glowing Bear\n",
    "    kc_realm = \"transmart\", # Realm in Keycloak for the tranSMART application\n",
    "    offline_token=offline_token,\n",
    "    print_urls = True # Whether or not to print the API URLs used behind the scenes\n",
    ")\n",
    "\n",
    "# Common errors:\n",
    "# * '401 Client Error: Unauthorized' - Wrong username/password\n",
    "# * 'HTTPSConnectionPool' - Wrong tranSMART or Keycloak URL or no internet\n",
    "# * '404 Client Error: Not Found' - Wrong Keycloak realm"
   ]
  },
  {
   "cell_type": "markdown",
   "metadata": {},
   "source": [
    "After you are connected and have loaded the new data, execute the following call to rebuild the necessary caches and see your changes in Glowing Bear:"
   ]
  },
  {
   "cell_type": "code",
   "execution_count": 7,
   "metadata": {},
   "outputs": [
    {
     "name": "stdout",
     "output_type": "stream",
     "text": [
      "https://transmart.thehyve.net/v2/admin/system/after_data_loading_update\n"
     ]
    },
    {
     "data": {
      "text/plain": [
       "{'timestamp': 1562140234912,\n",
       " 'status': 403,\n",
       " 'error': 'Forbidden',\n",
       " 'message': 'Access is denied',\n",
       " 'path': '/v2/admin/system/after_data_loading_update'}"
      ]
     },
     "execution_count": 7,
     "metadata": {},
     "output_type": "execute_result"
    }
   ],
   "source": [
    "# Clear cache\n",
    "api.admin.after_data_loading_update()"
   ]
  },
  {
   "cell_type": "markdown",
   "metadata": {},
   "source": [
    "The following calls are examples of sanity checks on whether the data loading has succeeded:"
   ]
  },
  {
   "cell_type": "code",
   "execution_count": 8,
   "metadata": {},
   "outputs": [
    {
     "name": "stdout",
     "output_type": "stream",
     "text": [
      "https://transmart.thehyve.net/v2/studies\n"
     ]
    },
    {
     "data": {
      "text/html": [
       "<div>\n",
       "<style scoped>\n",
       "    .dataframe tbody tr th:only-of-type {\n",
       "        vertical-align: middle;\n",
       "    }\n",
       "\n",
       "    .dataframe tbody tr th {\n",
       "        vertical-align: top;\n",
       "    }\n",
       "\n",
       "    .dataframe thead th {\n",
       "        text-align: right;\n",
       "    }\n",
       "</style>\n",
       "<table border=\"1\" class=\"dataframe\">\n",
       "  <thead>\n",
       "    <tr style=\"text-align: right;\">\n",
       "      <th></th>\n",
       "      <th>bioExperimentId</th>\n",
       "      <th>dimensions</th>\n",
       "      <th>id</th>\n",
       "      <th>secureObjectToken</th>\n",
       "      <th>studyId</th>\n",
       "    </tr>\n",
       "  </thead>\n",
       "  <tbody>\n",
       "    <tr>\n",
       "      <th>0</th>\n",
       "      <td>None</td>\n",
       "      <td>[study, patient, start time, concept]</td>\n",
       "      <td>2</td>\n",
       "      <td>PUBLIC</td>\n",
       "      <td>SYNTHETICMASS</td>\n",
       "    </tr>\n",
       "    <tr>\n",
       "      <th>1</th>\n",
       "      <td>None</td>\n",
       "      <td>[study, Images Id, patient, concept]</td>\n",
       "      <td>4</td>\n",
       "      <td>PUBLIC</td>\n",
       "      <td>IMAGES</td>\n",
       "    </tr>\n",
       "    <tr>\n",
       "      <th>2</th>\n",
       "      <td>None</td>\n",
       "      <td>[study, Biomaterial ID, patient, concept, Diag...</td>\n",
       "      <td>7</td>\n",
       "      <td>PUBLIC</td>\n",
       "      <td>Tumor Samples</td>\n",
       "    </tr>\n",
       "  </tbody>\n",
       "</table>\n",
       "</div>"
      ],
      "text/plain": [
       "  bioExperimentId                                         dimensions  id  \\\n",
       "0            None              [study, patient, start time, concept]   2   \n",
       "1            None               [study, Images Id, patient, concept]   4   \n",
       "2            None  [study, Biomaterial ID, patient, concept, Diag...   7   \n",
       "\n",
       "  secureObjectToken        studyId  \n",
       "0            PUBLIC  SYNTHETICMASS  \n",
       "1            PUBLIC         IMAGES  \n",
       "2            PUBLIC  Tumor Samples  "
      ]
     },
     "execution_count": 8,
     "metadata": {},
     "output_type": "execute_result"
    }
   ],
   "source": [
    "# Check if your new dataset / study is there\n",
    "api.get_studies().dataframe"
   ]
  },
  {
   "cell_type": "code",
   "execution_count": 9,
   "metadata": {},
   "outputs": [
    {
     "name": "stdout",
     "output_type": "stream",
     "text": [
      "https://transmart.thehyve.net/v2/tree_nodes?root=\\&depth=2&counts=True&tags=True\n"
     ]
    },
    {
     "data": {
      "text/plain": [
       "Conditions  (None)/\n",
       "  ICD10  (None)\n",
       "  SNOMED  (None)\n",
       "Demographics  (None)/\n",
       "  Birthdate  (1462)\n",
       "  Birthplace  (1462)\n",
       "  Deathdate  (457)\n",
       "  Ethnicity  (1462)\n",
       "  Gender  (1462)\n",
       "  Marital  (1033)\n",
       "  Race  (1462)\n",
       "Public Studies  (None)/\n",
       "  IMAGES  (5)\n",
       "  Tumor Samples  (9)"
      ]
     },
     "execution_count": 9,
     "metadata": {},
     "output_type": "execute_result"
    }
   ],
   "source": [
    "# Check if your new part of the tree is there\n",
    "tree = api.tree_nodes(root='\\\\', counts=True, depth=2)\n",
    "tree"
   ]
  }
 ],
 "metadata": {
  "kernelspec": {
   "display_name": "Python 3",
   "language": "python",
   "name": "python3"
  },
  "language_info": {
   "codemirror_mode": {
    "name": "ipython",
    "version": 3
   },
   "file_extension": ".py",
   "mimetype": "text/x-python",
   "name": "python",
   "nbconvert_exporter": "python",
   "pygments_lexer": "ipython3",
   "version": "3.6.7"
  }
 },
 "nbformat": 4,
 "nbformat_minor": 2
}
