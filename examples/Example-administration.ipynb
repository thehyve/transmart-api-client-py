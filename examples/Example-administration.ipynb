{
 "cells": [
  {
   "cell_type": "markdown",
   "metadata": {},
   "source": [
    "# Administration of Glowing Bear data warehouse with the Python client\n",
    "---------------\n",
    "\n",
    "Interacting with the data in the [tranSMART Glowing Bear data warehouse](https://glowingbear.app) via the [REST API](https://glowingbear.app/docs/technical/#transmart-api) and the [Python client](https://github.com/thehyve/transmart-api-client-py) into the Jupyter Notebook analytical environment.\n",
    "\n",
    "Note that you need admin rights on the tranSMART Glowing Bear server to execute the below calls."
   ]
  },
  {
   "cell_type": "code",
   "execution_count": 1,
   "metadata": {},
   "outputs": [
    {
     "name": "stdout",
     "output_type": "stream",
     "text": [
      "transmart python client version: 0.2.4\n"
     ]
    }
   ],
   "source": [
    "import transmart as tm\n",
    "print('transmart python client version: {}'.format(tm.__version__))"
   ]
  },
  {
   "cell_type": "markdown",
   "metadata": {},
   "source": [
    "Connect to the tranSMART Glowing Bear server:"
   ]
  },
  {
   "cell_type": "code",
   "execution_count": 2,
   "metadata": {},
   "outputs": [
    {
     "name": "stdout",
     "output_type": "stream",
     "text": [
      "Username: ward-demo\n",
      "KeyCloak password: ········\n",
      "https://transmart.thehyve.net/v2/studies\n",
      "https://transmart.thehyve.net/v2/tree_nodes?depth=0&counts=False&tags=True\n",
      "Existing index cache found. Loaded 10224 tree nodes. Hooray!\n",
      "https://transmart.thehyve.net/v2/pedigree/relation_types\n"
     ]
    }
   ],
   "source": [
    "api = tm.get_api(\n",
    "    host = 'https://transmart.thehyve.net', # URL of tranSMART server connected to your Glowing Bear\n",
    "    kc_url = \"https://keycloak-dwh-test.thehyve.net\", # URL of Keycloak connected to your Glowing Bear\n",
    "    kc_realm = \"transmart\", # Realm in Keycloak for the tranSMART application\n",
    "    \n",
    "    # Keycloak credentials you also use to access Glowing Bear\n",
    "    user = None, # If None your username will be prompted below\n",
    "    password = None, # If None your password will be prompted below\n",
    "    \n",
    "    print_urls = True # Whether or not to print the API URLs used behind the scenes\n",
    ")\n",
    "\n",
    "# Common errors:\n",
    "# * '401 Client Error: Unauthorized' - Wrong username/password\n",
    "# * 'HTTPSConnectionPool' - Wrong tranSMART or Keycloak URL or no internet\n",
    "# * '404 Client Error: Not Found' - Wrong Keycloak realm"
   ]
  },
  {
   "cell_type": "markdown",
   "metadata": {},
   "source": [
    "After you are connected and have loaded the new data, execute the following call to rebuild the necessary caches and see your changes in Glowing Bear:"
   ]
  },
  {
   "cell_type": "code",
   "execution_count": 3,
   "metadata": {},
   "outputs": [
    {
     "name": "stdout",
     "output_type": "stream",
     "text": [
      "https://transmart.thehyve.net/v2/admin/system/after_data_loading_update\n"
     ]
    },
    {
     "data": {
      "text/plain": [
       "{'createDate': '2019-05-05T00:30:53Z',\n",
       " 'message': None,\n",
       " 'status': 'RUNNING',\n",
       " 'tasks': {'clear caches': 'RUNNING',\n",
       "  'refresh study concept bitset materialized view': 'CREATED',\n",
       "  'user query set scan': 'CREATED',\n",
       "  'rebuild caches': 'CREATED'},\n",
       " 'updateDate': '2019-05-05T00:30:53Z'}"
      ]
     },
     "execution_count": 3,
     "metadata": {},
     "output_type": "execute_result"
    }
   ],
   "source": [
    "# Clear cache\n",
    "api.admin.after_data_loading_update()"
   ]
  },
  {
   "cell_type": "markdown",
   "metadata": {},
   "source": [
    "The following calls are examples of sanity checks on whether the data loading has succeeded:"
   ]
  },
  {
   "cell_type": "code",
   "execution_count": 4,
   "metadata": {},
   "outputs": [
    {
     "name": "stdout",
     "output_type": "stream",
     "text": [
      "https://transmart.thehyve.net/v2/studies\n"
     ]
    },
    {
     "data": {
      "text/html": [
       "<div>\n",
       "<style scoped>\n",
       "    .dataframe tbody tr th:only-of-type {\n",
       "        vertical-align: middle;\n",
       "    }\n",
       "\n",
       "    .dataframe tbody tr th {\n",
       "        vertical-align: top;\n",
       "    }\n",
       "\n",
       "    .dataframe thead th {\n",
       "        text-align: right;\n",
       "    }\n",
       "</style>\n",
       "<table border=\"1\" class=\"dataframe\">\n",
       "  <thead>\n",
       "    <tr style=\"text-align: right;\">\n",
       "      <th></th>\n",
       "      <th>bioExperimentId</th>\n",
       "      <th>dimensions</th>\n",
       "      <th>id</th>\n",
       "      <th>secureObjectToken</th>\n",
       "      <th>studyId</th>\n",
       "    </tr>\n",
       "  </thead>\n",
       "  <tbody>\n",
       "    <tr>\n",
       "      <th>0</th>\n",
       "      <td>None</td>\n",
       "      <td>[concept, patient, study, start time]</td>\n",
       "      <td>2</td>\n",
       "      <td>PUBLIC</td>\n",
       "      <td>SYNTHETICMASS</td>\n",
       "    </tr>\n",
       "  </tbody>\n",
       "</table>\n",
       "</div>"
      ],
      "text/plain": [
       "  bioExperimentId                             dimensions  id  \\\n",
       "0            None  [concept, patient, study, start time]   2   \n",
       "\n",
       "  secureObjectToken        studyId  \n",
       "0            PUBLIC  SYNTHETICMASS  "
      ]
     },
     "execution_count": 4,
     "metadata": {},
     "output_type": "execute_result"
    }
   ],
   "source": [
    "# Check if your new dataset / study is there\n",
    "api.get_studies().dataframe"
   ]
  },
  {
   "cell_type": "code",
   "execution_count": 5,
   "metadata": {},
   "outputs": [
    {
     "name": "stdout",
     "output_type": "stream",
     "text": [
      "https://transmart.thehyve.net/v2/tree_nodes?root=\\&depth=2&counts=True&tags=True\n"
     ]
    },
    {
     "data": {
      "text/plain": [
       "Demographics  (None)/\n",
       "  Birthdate  (1462)\n",
       "  Birthplace  (1462)\n",
       "  Deathdate  (457)\n",
       "  Ethnicity  (1462)\n",
       "  Gender  (1462)\n",
       "  Marital  (1033)\n",
       "  Race  (1462)\n",
       "Conditions  (None)/\n",
       "  ICD10  (None)\n",
       "  SNOMED  (None)"
      ]
     },
     "execution_count": 5,
     "metadata": {},
     "output_type": "execute_result"
    }
   ],
   "source": [
    "# Check if your new part of the tree is there\n",
    "tree = api.tree_nodes(root='\\\\', counts=True, depth=2)\n",
    "tree"
   ]
  }
 ],
 "metadata": {
  "kernelspec": {
   "display_name": "Python (transmart)",
   "language": "python",
   "name": "transmart"
  },
  "language_info": {
   "codemirror_mode": {
    "name": "ipython",
    "version": 3
   },
   "file_extension": ".py",
   "mimetype": "text/x-python",
   "name": "python",
   "nbconvert_exporter": "python",
   "pygments_lexer": "ipython3",
   "version": "3.7.3"
  }
 },
 "nbformat": 4,
 "nbformat_minor": 2
}
