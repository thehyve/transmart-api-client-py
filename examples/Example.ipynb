{
 "cells": [
  {
   "cell_type": "markdown",
   "metadata": {},
   "source": [
    "# Python client for the Glowing Bear data warehouse\n",
    "---------------\n",
    "\n",
    "Interacting with the data in the [tranSMART Glowing Bear data warehouse](https://glowingbear.app) via the [REST API](https://glowingbear.app/docs/technical/#transmart-api) and the [Python client](https://github.com/thehyve/transmart-api-client-py) into the Jupyter Notebook analytical environment."
   ]
  },
  {
   "cell_type": "markdown",
   "metadata": {},
   "source": [
    "## Getting started\n",
    "\n",
    "* Make sure you have registered a free account for the [The Hyve public demonstration environment of Glowing Bear](https://glowingbear.app/getting-started/). \n",
    "* Make sure you install the Python client with `pip install transmart[full]` to have all functionality available. (When using this notebook in Binder this has already been done for you)\n",
    "* If you'd like more information or a tailor-made demonstration, please [reach out to The Hyve](https://thehyve.nl/contact/).\n",
    "\n",
    "First we will import the [tranSMART Python package](https://github.com/thehyve/transmart-api-client-py) by executing the following cell. To execute a cell, select it and press the Run button above."
   ]
  },
  {
   "cell_type": "code",
   "execution_count": null,
   "metadata": {},
   "outputs": [],
   "source": [
    "import transmart as tm"
   ]
  },
  {
   "cell_type": "markdown",
   "metadata": {},
   "source": [
    "We'll also import some other libraries, to help us later:"
   ]
  },
  {
   "cell_type": "code",
   "execution_count": null,
   "metadata": {},
   "outputs": [],
   "source": [
    "import json\n",
    "import pandas as pd\n",
    "\n",
    "from math import pi\n",
    "\n",
    "from bokeh.io import output_notebook, show\n",
    "from bokeh.palettes import Category20c\n",
    "from bokeh.plotting import figure\n",
    "from bokeh.transform import cumsum\n",
    "\n",
    "output_notebook()"
   ]
  },
  {
   "cell_type": "markdown",
   "metadata": {},
   "source": [
    "# Connecting to the tranSMART server\n",
    "Now we will authenticate to the tranSMART server with your credentials. Just execute the following cell, fill in the details and press Enter:"
   ]
  },
  {
   "cell_type": "markdown",
   "metadata": {},
   "source": [
    "Generate an offline token for your user:"
   ]
  },
  {
   "cell_type": "code",
   "execution_count": null,
   "metadata": {},
   "outputs": [],
   "source": [
    "import requests\n",
    "\n",
    "# Keycloak credentials you also use to access Glowing Bear\n",
    "user = \"ewelina\"\n",
    "password = \"1234\"\n",
    "kc_token_url = \"https://keycloak-dwh-test.thehyve.net/auth/realms/transmart/protocol/openid-connect/token\"\n",
    "kc_client_id= \"transmart-client\"\n",
    "\n",
    "r = requests.post(url=kc_token_url,\n",
    "                  data=dict(grant_type='password',\n",
    "                            client_id=kc_client_id,\n",
    "                            scope= 'offline_access',\n",
    "                            username=user,\n",
    "                            password=password\n",
    "                           )\n",
    "                 )\n",
    "offline_token = r.json().get('refresh_token')\n",
    "offline_token"
   ]
  },
  {
   "cell_type": "code",
   "execution_count": null,
   "metadata": {},
   "outputs": [],
   "source": [
    "# Create an API object to perform API queries with, using our user credentials\n",
    "api = tm.get_api(\n",
    "    host = 'https://transmart.thehyve.net', # URL of tranSMART server connected to your Glowing Bear\n",
    "    kc_url = \"https://keycloak-dwh-test.thehyve.net\", # URL of Keycloak connected to your Glowing Bear\n",
    "    kc_realm = \"transmart\", # Realm in Keycloak for the tranSMART application\n",
    "    offline_token = offline_token,\n",
    "    print_urls = False # Whether or not to print the API URLs used behind the scenes, to learn the API calls.\n",
    ")\n",
    "\n",
    "# Common errors:\n",
    "# * '401 Client Error: Unauthorized' - Wrong username/password\n",
    "# * 'HTTPSConnectionPool' - Wrong tranSMART or Keycloak URL or no internet\n",
    "# * '404 Client Error: Not Found' - Wrong Keycloak realm"
   ]
  },
  {
   "cell_type": "markdown",
   "metadata": {},
   "source": [
    "# Exploring the data\n",
    "A tranSMART Glowing Bear server can contain multiple data sets or studies, which can be used to control access to per user. Let's show all sets in the server that our user has access to:"
   ]
  },
  {
   "cell_type": "code",
   "execution_count": null,
   "metadata": {},
   "outputs": [],
   "source": [
    "# Query for the available studies/data sets and show the first five\n",
    "studies = api.get_studies()\n",
    "studies.dataframe.head()"
   ]
  },
  {
   "cell_type": "markdown",
   "metadata": {},
   "source": [
    "The most important data overview in tranSMART Glowing Bear is the tree. Let's see the highest levels of the tree, including patient counts:"
   ]
  },
  {
   "cell_type": "code",
   "execution_count": null,
   "metadata": {},
   "outputs": [],
   "source": [
    "# Query and print the first 2 levels of the tree, including the patient counts\n",
    "tree = api.tree_nodes(depth=2, counts=True)\n",
    "tree"
   ]
  },
  {
   "cell_type": "markdown",
   "metadata": {},
   "source": [
    "When we want more details on the tree nodes (like which concept is behind it) we can use the dataframe representation instead:"
   ]
  },
  {
   "cell_type": "code",
   "execution_count": null,
   "metadata": {},
   "outputs": [],
   "source": [
    "# Show the first five rows of the tree dataframe\n",
    "tree.dataframe.head()"
   ]
  },
  {
   "cell_type": "markdown",
   "metadata": {},
   "source": [
    "# Querying for patients and observations\n",
    "The following example queries for recent, normal pregnancies from parents born in Boston or Cambridge, MA.  \n",
    "(Later we'll explore in more detail how to build such a query from scratch)"
   ]
  },
  {
   "cell_type": "code",
   "execution_count": null,
   "metadata": {},
   "outputs": [],
   "source": [
    "# Construct the query\n",
    "pregnancy_constraint = \\\n",
    "    api.new_constraint(concept='Demographics:BIRTHPLACE', value_list=['Boston MA US', 'Cambridge MA US']) & \\\n",
    "    api.new_constraint(concept='Conditions-SNOMED:72892002', min_start_date='2009-01-01')\n",
    "\n",
    "# Calculate and print the counts\n",
    "output = api.observations.counts(constraint=pregnancy_constraint)\n",
    "print(json.dumps(output, indent=2))"
   ]
  },
  {
   "cell_type": "markdown",
   "metadata": {},
   "source": [
    "With the above call we can quickly see the number of matching patients and the total number of observations (not just pregnancy observations) linked to these subjects, without needing to retrieve the data.\n",
    "\n",
    "Next, we retrieve the matching patients and show the details for the first five:"
   ]
  },
  {
   "cell_type": "code",
   "execution_count": null,
   "metadata": {},
   "outputs": [],
   "source": [
    "# Query and show the first five patients matching the query\n",
    "api.patients(constraint=pregnancy_constraint).dataframe.head()"
   ]
  },
  {
   "cell_type": "markdown",
   "metadata": {},
   "source": [
    "Let's also show the first five observations linked to this patient set:"
   ]
  },
  {
   "cell_type": "code",
   "execution_count": null,
   "metadata": {},
   "outputs": [],
   "source": [
    "# Query and show the first five observations matching the query\n",
    "api.observations(constraint=pregnancy_constraint).dataframe.head()"
   ]
  },
  {
   "cell_type": "markdown",
   "metadata": {},
   "source": [
    "# Saving a Patient Set\n",
    "Since we want to reuse this patient set, let's store it on the server and retrieve the returned patient set ID:"
   ]
  },
  {
   "cell_type": "code",
   "execution_count": null,
   "metadata": {},
   "outputs": [],
   "source": [
    "# Creating the patient set and store and print the returned patient set ID\n",
    "patient_set_id = api.create_patient_set(\n",
    "    name=\"Recent pregnancies in Boston and Cambridge\", constraint=pregnancy_constraint)['id']\n",
    "print(\"Patient Set ID for new patient set: {}\".format(patient_set_id))"
   ]
  },
  {
   "cell_type": "markdown",
   "metadata": {},
   "source": [
    "Let's show the most recent stored patient sets linked to my user account, to see our newest included:"
   ]
  },
  {
   "cell_type": "code",
   "execution_count": null,
   "metadata": {},
   "outputs": [],
   "source": [
    "# Query all our patient sets and display the five most recent sets\n",
    "api.patient_sets().dataframe.sort_values(by='id', axis=0).tail()\n",
    "\n",
    "# Note: Currently only patient sets saved via the API or those used in the Cross Table in Glowing Bear are shown"
   ]
  },
  {
   "cell_type": "markdown",
   "metadata": {},
   "source": [
    "We can now use this patient set ID to continue making queries. For example, with the following query that requests only the Ethnicity data for our selected subjects:"
   ]
  },
  {
   "cell_type": "code",
   "execution_count": null,
   "metadata": {},
   "outputs": [],
   "source": [
    "# Create new query constraint for observations (and linked patients) where the patient is in the patientset\n",
    "# and the concept is Ethnicity\n",
    "one_concept_constraint = api.new_constraint(subject_set_id=patient_set_id, concept='Demographics:ETHNICITY')\n",
    "\n",
    "# Retrieve the matching observations and display the first five\n",
    "api.observations(constraint=one_concept_constraint).dataframe.head()"
   ]
  },
  {
   "cell_type": "markdown",
   "metadata": {},
   "source": [
    "Getting the data to Python or R also allows us to easily make interesting figures or analyses, like the below pie chart of the Ethnicity distribution in our selected cohort:"
   ]
  },
  {
   "cell_type": "code",
   "execution_count": null,
   "metadata": {},
   "outputs": [],
   "source": [
    "# Retrieving the summarized count data for Ethnicity for our query constraint\n",
    "aggregates = api.observations.aggregates_per_concept(constraint=one_concept_constraint)\n",
    "x = aggregates['aggregatesPerConcept']['Demographics:ETHNICITY']['categoricalValueAggregates']['valueCounts']\n",
    "\n",
    "# Setting the Bokeh plot data and variables\n",
    "data = pd.Series(x).reset_index(name='value').rename(columns={'index':'ethnicity'})\n",
    "data['angle'] = data['value']/data['value'].sum() * 2*pi\n",
    "data['color'] = Category20c[len(x)]\n",
    "p = figure(plot_height=350, title=\"Ethnicity distribution for recent parents in Boston or Cambridge, MA\", toolbar_location=None,\n",
    "           tools=\"hover\", tooltips=\"@ethnicity: @value\", x_range=(-0.5, 1.0))\n",
    "p.wedge(x=0, y=1, radius=0.4,\n",
    "        start_angle=cumsum('angle', include_zero=True), end_angle=cumsum('angle'),\n",
    "        line_color=\"white\", fill_color='color', legend='ethnicity', source=data)\n",
    "p.axis.axis_label=None\n",
    "p.axis.visible=False\n",
    "p.grid.grid_line_color = None\n",
    "show(p)"
   ]
  },
  {
   "cell_type": "markdown",
   "metadata": {},
   "source": [
    "# Constructing a query\n",
    "Below we will, step by step, create the query for: _Men with Type 2 Diabetes_.\n",
    "\n",
    "If a concept is easily found by browsing the tree, like Gender under Demographics, we can start with that:"
   ]
  },
  {
   "cell_type": "code",
   "execution_count": null,
   "metadata": {},
   "outputs": [],
   "source": [
    "# Retrieve and display the first two levels of the tree under the Demographics top node\n",
    "tree = api.tree_nodes(depth=2, root='\\\\Demographics\\\\')\n",
    "tree.dataframe"
   ]
  },
  {
   "cell_type": "markdown",
   "metadata": {},
   "source": [
    "We see that the concept code for Gender is `Demographics:GENDER`, which we will use to start our query constraint:"
   ]
  },
  {
   "cell_type": "code",
   "execution_count": null,
   "metadata": {},
   "outputs": [],
   "source": [
    "# Creating the constraint to limit to Gender observations\n",
    "gender_constraint = api.new_constraint(concept='Demographics:GENDER')\n",
    "\n",
    "# Printing the type of the constraint, to see this is an ObservationConstraint\n",
    "print(type(gender_constraint))\n",
    "print()\n",
    "\n",
    "# Showing the definition of our constraint as a dictionary overview\n",
    "output = gender_constraint\n",
    "print(json.dumps(json.loads(str(output)), indent=2))"
   ]
  },
  {
   "cell_type": "markdown",
   "metadata": {},
   "source": [
    "We see that the type of the constraint is an `ObservationConstraint`. And below that we see the representation of our current query.\n",
    "\n",
    "All parts of our query that need to be true within the same observation will need to be added to the same `ObservationConstraint`. For the _Men_ part of our query both concept Gender and value Male need to be true for the same observation, so they should be together in one `ObservationConstraint`.  \n",
    "The _Type 2 Diabetes_ will need to be a separate observation for the same patients, so we will later create a separate `ObservationConstraint` for that.\n",
    "\n",
    "Now, we're not just interested in anyone with a recorded Gender, but only those were the value for this is Male. Let's see what the possible values for Gender are:"
   ]
  },
  {
   "cell_type": "code",
   "execution_count": null,
   "metadata": {},
   "outputs": [],
   "source": [
    "# Retrieve the aggregate counts for the Gender concept and print the possible values\n",
    "output = api.observations.aggregates_per_concept(constraint=gender_constraint)\n",
    "print(json.dumps(output['aggregatesPerConcept']['Demographics:GENDER']['categoricalValueAggregates'], indent=2))"
   ]
  },
  {
   "cell_type": "markdown",
   "metadata": {},
   "source": [
    "We see that the possible values are F and M, where we are interested in the subjects with value M. For this we need to restrict our current constraint with the value M.\n",
    "\n",
    "We can see all possible parameters for our `ObservationConstraint` below:"
   ]
  },
  {
   "cell_type": "code",
   "execution_count": null,
   "metadata": {},
   "outputs": [],
   "source": [
    "# Print all the possible parameters for a query constraint\n",
    "for key in api.new_constraint().params:\n",
    "    print(\"* {}\".format(key))"
   ]
  },
  {
   "cell_type": "markdown",
   "metadata": {},
   "source": [
    "For restricting our categorical value we need to use `value_list` with a list including the value 'M':"
   ]
  },
  {
   "cell_type": "code",
   "execution_count": null,
   "metadata": {},
   "outputs": [],
   "source": [
    "# Adding the value_list constraint to our query constraint, to limit on observations of gender Male\n",
    "gender_constraint.value_list = ['M']\n",
    "\n",
    "# Print a representation of our constraint\n",
    "output = gender_constraint\n",
    "print(json.dumps(json.loads(str(output)), indent=2))"
   ]
  },
  {
   "cell_type": "markdown",
   "metadata": {},
   "source": [
    "We can see in the above representation that we are searching for all observations that are both linked to the Concept Gender AND has the value 'M'. We will thus find all observations of Gender male and the patients linked to those observations.\n",
    "\n",
    "Let's count how many observations and patients match this query:"
   ]
  },
  {
   "cell_type": "code",
   "execution_count": null,
   "metadata": {},
   "outputs": [],
   "source": [
    "# Retrieve and print the counts for observations and patients matching our constraint\n",
    "output = api.observations.counts(constraint=gender_constraint)\n",
    "print(json.dumps(output, indent=2))"
   ]
  },
  {
   "cell_type": "markdown",
   "metadata": {},
   "source": [
    "The patient count indeed represents the number of male subjects in our study.\n",
    "\n",
    "Note that the observation count is not the the number of ALL observations linked to male patients, but only the observations of concept Gender with Value male.\n",
    "\n",
    "If we instead want to treat our query as a patient set, and want to know how many observations in total are linked to these patients we have to wrap our query in a patient subselection constraint:"
   ]
  },
  {
   "cell_type": "code",
   "execution_count": null,
   "metadata": {},
   "outputs": [],
   "source": [
    "# Adding the subselection parameter to our query constraint, to treat the selection as a patient set\n",
    "gender_constraint.subselection = 'patient'\n",
    "\n",
    "# Print a representation of our constraint\n",
    "output = gender_constraint\n",
    "print(json.dumps(json.loads(str(output)), indent=2))"
   ]
  },
  {
   "cell_type": "markdown",
   "metadata": {},
   "source": [
    "We will now see that the observation count for this query is indeed much higher:"
   ]
  },
  {
   "cell_type": "code",
   "execution_count": null,
   "metadata": {},
   "outputs": [],
   "source": [
    "# Retrieve and print the counts for observations and patients matching our Male Gender patient set constraint\n",
    "output = api.observations.counts(constraint=gender_constraint)\n",
    "print(json.dumps(output, indent=2))"
   ]
  },
  {
   "cell_type": "markdown",
   "metadata": {},
   "source": [
    "Our first `ObservationConstraint` for the _Male_ part of our question is done. Now, we need to find what the tree node or concept code is for _Type 2 Diabetes_.\n",
    "\n",
    "We know we have used SNOMED (and ICD10) to structure the data in our tranSMART server. In [Bioportal we find](https://bioportal.bioontology.org/ontologies/SNOMEDCT?p=classes&conceptid=44054006) that the SNOMED code (notation) for 'Type 2 diabetes mellitus' is 44054006. So let's search our tree for that and get the node details:"
   ]
  },
  {
   "cell_type": "code",
   "execution_count": null,
   "metadata": {},
   "outputs": [],
   "source": [
    "# Search the tree for our SNOMED code\n",
    "nodes_with_snomed_code = api.search_tree_node('name:44054006')\n",
    "\n",
    "# Retrieve the details for the first matching tree node\n",
    "node_details = api.tree_dict[nodes_with_snomed_code[0]]\n",
    "\n",
    "# Print a representation of the tree node\n",
    "print(json.dumps(node_details, indent=2))"
   ]
  },
  {
   "cell_type": "markdown",
   "metadata": {},
   "source": [
    "Here, we learn that the concept code in tranSMART Glowing Bear is `Conditions-SNOMED:44054006`, which we will use to construct our second `ObservationConstraint`:"
   ]
  },
  {
   "cell_type": "code",
   "execution_count": null,
   "metadata": {},
   "outputs": [],
   "source": [
    "# Create a new query constraint filtering on the concept code found in the tree node \n",
    "diabetes_constraint = api.new_constraint(\n",
    "    concept=node_details['constraint.conceptCode'], subselection='patient')\n",
    "\n",
    "# Print a representation of our constraint\n",
    "print(json.dumps(json.loads(str(diabetes_constraint)), indent=2))"
   ]
  },
  {
   "cell_type": "markdown",
   "metadata": {},
   "source": [
    "And the count:"
   ]
  },
  {
   "cell_type": "code",
   "execution_count": null,
   "metadata": {},
   "outputs": [],
   "source": [
    "# Retrieve and print the counts for observations and patients matching our Diabetes constraint\n",
    "output = api.observations.counts(constraint=diabetes_constraint)\n",
    "print(json.dumps(output, indent=2))"
   ]
  },
  {
   "cell_type": "markdown",
   "metadata": {},
   "source": [
    "Now we have also finished the second part of our query. We are now looking for the intersection between the two patient sets we have made.\n",
    "\n",
    "For this we can simply use the `&` or `|` operators and brackets to combine multiple `ObservationConstraints` into one `GroupConstraint`:"
   ]
  },
  {
   "cell_type": "code",
   "execution_count": null,
   "metadata": {},
   "outputs": [],
   "source": [
    "# Creating a group constraint by combining the Male Gender and Diabetes constraints with the 'AND' operator\n",
    "men_with_diabetes_constraint = gender_constraint & diabetes_constraint\n",
    "\n",
    "# Printing the type of the constraint, to see this is an GroupConstraint\n",
    "print(type(men_with_diabetes_constraint))\n",
    "print()\n",
    "\n",
    "# Print a representation of our constraint\n",
    "print(json.dumps(json.loads(str(men_with_diabetes_constraint)), indent=2))"
   ]
  },
  {
   "cell_type": "markdown",
   "metadata": {},
   "source": [
    "Side note: When creating a `GroupConstraint`, the multiple `ObservationConstraint`s are automatically each wrapped with a patient subselection. So technically it wasn't necessary that we did this ourselves above for the two constraints.\n",
    "\n",
    "Now all that's left is for us to count our final query and retrieve the patients and observations of interest!"
   ]
  },
  {
   "cell_type": "code",
   "execution_count": null,
   "metadata": {},
   "outputs": [],
   "source": [
    "# Retrieve and print the counts for observations and patients matching our Men with Diabetes query constraint\n",
    "output = api.observations.counts(constraint=men_with_diabetes_constraint)\n",
    "print(json.dumps(output, indent=2))\n",
    "\n",
    "# Retrieve the patients matching our constraint and displaying the first five\n",
    "display(api.patients(constraint=men_with_diabetes_constraint).dataframe.head())\n",
    "\n",
    "# Retrieve the observations matching our constraint and displaying the first five\n",
    "display(api.observations(constraint=men_with_diabetes_constraint).dataframe.head())"
   ]
  }
 ],
 "metadata": {
  "kernelspec": {
   "display_name": "Python 3",
   "language": "python",
   "name": "python3"
  },
  "language_info": {
   "codemirror_mode": {
    "name": "ipython",
    "version": 3
   },
   "file_extension": ".py",
   "mimetype": "text/x-python",
   "name": "python",
   "nbconvert_exporter": "python",
   "pygments_lexer": "ipython3",
   "version": "3.6.7"
  }
 },
 "nbformat": 4,
 "nbformat_minor": 2
}
