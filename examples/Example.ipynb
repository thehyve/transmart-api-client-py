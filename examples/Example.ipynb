{
 "cells": [
  {
   "cell_type": "markdown",
   "metadata": {},
   "source": [
    "# Python client for the Glowing Bear data warehouse\n",
    "---------------\n",
    "\n",
    "Interacting with the data in the [tranSMART Glowing Bear data warehouse](https://glowingbear.app) via the [REST API](https://glowingbear.app/docs/technical/#transmart-api) and the [Python client](https://github.com/thehyve/transmart-api-client-py) into the Jupyter Notebook analytical environment."
   ]
  },
  {
   "cell_type": "markdown",
   "metadata": {},
   "source": [
    "## Getting started\n",
    "\n",
    "* Make sure you have registered a free account for the [The Hyve public demonstration environment of Glowing Bear](https://glowingbear.app/getting-started/). \n",
    "* Make sure you install the Python client with `pip install transmart[full]` to have all functionality available. (When using this notebook in Binder this has already been done for you)\n",
    "* If you'd like more information or a tailor-made demonstration, please [reach out to The Hyve](https://thehyve.nl/contact/).\n",
    "\n",
    "First we will import the [tranSMART Python package](https://github.com/thehyve/transmart-api-client-py) by executing the following cell. To execute a cell, select it and press the Run button above."
   ]
  },
  {
   "cell_type": "code",
   "execution_count": 1,
   "metadata": {},
   "outputs": [],
   "source": [
    "import transmart as tm"
   ]
  },
  {
   "cell_type": "markdown",
   "metadata": {},
   "source": [
    "# Connecting to the tranSMART server\n",
    "Now we will authenticate to the tranSMART server with your credentials. Just execute the following cell, fill in the details and press Enter:"
   ]
  },
  {
   "cell_type": "code",
   "execution_count": 2,
   "metadata": {},
   "outputs": [
    {
     "name": "stdout",
     "output_type": "stream",
     "text": [
      "Username: ward-demo\n",
      "KeyCloak password: ········\n",
      "https://transmart.thehyve.net/v2/studies\n",
      "https://transmart.thehyve.net/v2/tree_nodes?depth=0&counts=False&tags=True\n",
      "Existing index cache found. Loaded 10224 tree nodes. Hooray!\n",
      "https://transmart.thehyve.net/v2/pedigree/relation_types\n"
     ]
    }
   ],
   "source": [
    "api = tm.get_api(\n",
    "    host = 'https://transmart.thehyve.net', # URL of tranSMART server connected to your Glowing Bear\n",
    "    kc_url = \"https://keycloak-dwh-test.thehyve.net\", # URL of Keycloak connected to your Glowing Bear\n",
    "    kc_realm = \"transmart\", # Realm in Keycloak for the tranSMART application\n",
    "    \n",
    "    # Keycloak credentials you also use to access Glowing Bear\n",
    "    user = None, # If None your username will be prompted below\n",
    "    password = None, # If None your password will be prompted below\n",
    "    \n",
    "    print_urls = True # Whether or not to print the API URLs used behind the scenes\n",
    ")\n",
    "\n",
    "# Common errors:\n",
    "# * '401 Client Error: Unauthorized' - Wrong username/password\n",
    "# * 'HTTPSConnectionPool' - Wrong tranSMART or Keycloak URL or no internet\n",
    "# * '404 Client Error: Not Found' - Wrong Keycloak realm"
   ]
  },
  {
   "cell_type": "markdown",
   "metadata": {},
   "source": [
    "# Exploring the data\n",
    "A tranSMART Glowing Bear server can contain multiple data sets or studies, which can be used to control access to per user. Let's show all sets in the server that our user has access to:"
   ]
  },
  {
   "cell_type": "code",
   "execution_count": 3,
   "metadata": {},
   "outputs": [
    {
     "name": "stdout",
     "output_type": "stream",
     "text": [
      "https://transmart.thehyve.net/v2/studies\n"
     ]
    },
    {
     "data": {
      "text/html": [
       "<div>\n",
       "<style scoped>\n",
       "    .dataframe tbody tr th:only-of-type {\n",
       "        vertical-align: middle;\n",
       "    }\n",
       "\n",
       "    .dataframe tbody tr th {\n",
       "        vertical-align: top;\n",
       "    }\n",
       "\n",
       "    .dataframe thead th {\n",
       "        text-align: right;\n",
       "    }\n",
       "</style>\n",
       "<table border=\"1\" class=\"dataframe\">\n",
       "  <thead>\n",
       "    <tr style=\"text-align: right;\">\n",
       "      <th></th>\n",
       "      <th>bioExperimentId</th>\n",
       "      <th>dimensions</th>\n",
       "      <th>id</th>\n",
       "      <th>secureObjectToken</th>\n",
       "      <th>studyId</th>\n",
       "    </tr>\n",
       "  </thead>\n",
       "  <tbody>\n",
       "    <tr>\n",
       "      <th>0</th>\n",
       "      <td>None</td>\n",
       "      <td>[study, patient, concept, start time]</td>\n",
       "      <td>2</td>\n",
       "      <td>PUBLIC</td>\n",
       "      <td>SYNTHETICMASS</td>\n",
       "    </tr>\n",
       "  </tbody>\n",
       "</table>\n",
       "</div>"
      ],
      "text/plain": [
       "  bioExperimentId                             dimensions  id  \\\n",
       "0            None  [study, patient, concept, start time]   2   \n",
       "\n",
       "  secureObjectToken        studyId  \n",
       "0            PUBLIC  SYNTHETICMASS  "
      ]
     },
     "execution_count": 3,
     "metadata": {},
     "output_type": "execute_result"
    }
   ],
   "source": [
    "studies = api.get_studies()\n",
    "studies.dataframe.head()"
   ]
  },
  {
   "cell_type": "markdown",
   "metadata": {},
   "source": [
    "You will see that each cell prints the corresponding API call that is being done, since we have turned `print_urls` on when connecting. This will give you a better understanding of the [tranSMART Glowing Bear API](https://glowingbear.app/docs/technical/#transmart-api).\n",
    "\n",
    "The most important data overview in tranSMART Glowing Bear is the tree. Let's see the highest levels of the tree, including patient counts:"
   ]
  },
  {
   "cell_type": "code",
   "execution_count": 4,
   "metadata": {},
   "outputs": [
    {
     "name": "stdout",
     "output_type": "stream",
     "text": [
      "https://transmart.thehyve.net/v2/tree_nodes?depth=2&counts=True&tags=True\n"
     ]
    },
    {
     "data": {
      "text/plain": [
       "Demographics  (None)/\n",
       "  Birthdate  (1462)\n",
       "  Birthplace  (1462)\n",
       "  Deathdate  (457)\n",
       "  Ethnicity  (1462)\n",
       "  Gender  (1462)\n",
       "  Marital  (1033)\n",
       "  Race  (1462)\n",
       "Conditions  (None)/\n",
       "  ICD10  (None)\n",
       "  SNOMED  (None)"
      ]
     },
     "execution_count": 4,
     "metadata": {},
     "output_type": "execute_result"
    }
   ],
   "source": [
    "tree = api.tree_nodes(depth=2, counts=True)\n",
    "tree"
   ]
  },
  {
   "cell_type": "markdown",
   "metadata": {},
   "source": [
    "When we want more details on the tree nodes (like which concept is behind it) we can use the dataframe representation instead:"
   ]
  },
  {
   "cell_type": "code",
   "execution_count": 5,
   "metadata": {},
   "outputs": [
    {
     "data": {
      "text/html": [
       "<div>\n",
       "<style scoped>\n",
       "    .dataframe tbody tr th:only-of-type {\n",
       "        vertical-align: middle;\n",
       "    }\n",
       "\n",
       "    .dataframe tbody tr th {\n",
       "        vertical-align: top;\n",
       "    }\n",
       "\n",
       "    .dataframe thead th {\n",
       "        text-align: right;\n",
       "    }\n",
       "</style>\n",
       "<table border=\"1\" class=\"dataframe\">\n",
       "  <thead>\n",
       "    <tr style=\"text-align: right;\">\n",
       "      <th></th>\n",
       "      <th>conceptCode</th>\n",
       "      <th>conceptPath</th>\n",
       "      <th>constraint.conceptCode</th>\n",
       "      <th>constraint.type</th>\n",
       "      <th>fullName</th>\n",
       "      <th>name</th>\n",
       "      <th>observationCount</th>\n",
       "      <th>patientCount</th>\n",
       "      <th>type</th>\n",
       "      <th>visualAttributes</th>\n",
       "    </tr>\n",
       "  </thead>\n",
       "  <tbody>\n",
       "    <tr>\n",
       "      <th>0</th>\n",
       "      <td>NaN</td>\n",
       "      <td>NaN</td>\n",
       "      <td>NaN</td>\n",
       "      <td>NaN</td>\n",
       "      <td>\\Demographics\\</td>\n",
       "      <td>Demographics</td>\n",
       "      <td>NaN</td>\n",
       "      <td>NaN</td>\n",
       "      <td>UNKNOWN</td>\n",
       "      <td>[FOLDER, ACTIVE]</td>\n",
       "    </tr>\n",
       "    <tr>\n",
       "      <th>1</th>\n",
       "      <td>Demographics:BIRTHDATE</td>\n",
       "      <td>\\Demographics\\Birthdate\\</td>\n",
       "      <td>Demographics:BIRTHDATE</td>\n",
       "      <td>concept</td>\n",
       "      <td>\\Demographics\\Birthdate\\</td>\n",
       "      <td>Birthdate</td>\n",
       "      <td>1462.0</td>\n",
       "      <td>1462.0</td>\n",
       "      <td>DATE</td>\n",
       "      <td>[LEAF, ACTIVE, DATE]</td>\n",
       "    </tr>\n",
       "    <tr>\n",
       "      <th>2</th>\n",
       "      <td>Demographics:BIRTHPLACE</td>\n",
       "      <td>\\Demographics\\Birthplace\\</td>\n",
       "      <td>Demographics:BIRTHPLACE</td>\n",
       "      <td>concept</td>\n",
       "      <td>\\Demographics\\Birthplace\\</td>\n",
       "      <td>Birthplace</td>\n",
       "      <td>1462.0</td>\n",
       "      <td>1462.0</td>\n",
       "      <td>CATEGORICAL</td>\n",
       "      <td>[LEAF, ACTIVE, CATEGORICAL]</td>\n",
       "    </tr>\n",
       "    <tr>\n",
       "      <th>3</th>\n",
       "      <td>Demographics:DEATHDATE</td>\n",
       "      <td>\\Demographics\\Deathdate\\</td>\n",
       "      <td>Demographics:DEATHDATE</td>\n",
       "      <td>concept</td>\n",
       "      <td>\\Demographics\\Deathdate\\</td>\n",
       "      <td>Deathdate</td>\n",
       "      <td>457.0</td>\n",
       "      <td>457.0</td>\n",
       "      <td>DATE</td>\n",
       "      <td>[LEAF, ACTIVE, DATE]</td>\n",
       "    </tr>\n",
       "    <tr>\n",
       "      <th>4</th>\n",
       "      <td>Demographics:ETHNICITY</td>\n",
       "      <td>\\Demographics\\Ethnicity\\</td>\n",
       "      <td>Demographics:ETHNICITY</td>\n",
       "      <td>concept</td>\n",
       "      <td>\\Demographics\\Ethnicity\\</td>\n",
       "      <td>Ethnicity</td>\n",
       "      <td>1462.0</td>\n",
       "      <td>1462.0</td>\n",
       "      <td>CATEGORICAL</td>\n",
       "      <td>[LEAF, ACTIVE, CATEGORICAL]</td>\n",
       "    </tr>\n",
       "  </tbody>\n",
       "</table>\n",
       "</div>"
      ],
      "text/plain": [
       "               conceptCode                conceptPath  \\\n",
       "0                      NaN                        NaN   \n",
       "1   Demographics:BIRTHDATE   \\Demographics\\Birthdate\\   \n",
       "2  Demographics:BIRTHPLACE  \\Demographics\\Birthplace\\   \n",
       "3   Demographics:DEATHDATE   \\Demographics\\Deathdate\\   \n",
       "4   Demographics:ETHNICITY   \\Demographics\\Ethnicity\\   \n",
       "\n",
       "    constraint.conceptCode constraint.type                   fullName  \\\n",
       "0                      NaN             NaN             \\Demographics\\   \n",
       "1   Demographics:BIRTHDATE         concept   \\Demographics\\Birthdate\\   \n",
       "2  Demographics:BIRTHPLACE         concept  \\Demographics\\Birthplace\\   \n",
       "3   Demographics:DEATHDATE         concept   \\Demographics\\Deathdate\\   \n",
       "4   Demographics:ETHNICITY         concept   \\Demographics\\Ethnicity\\   \n",
       "\n",
       "           name  observationCount  patientCount         type  \\\n",
       "0  Demographics               NaN           NaN      UNKNOWN   \n",
       "1     Birthdate            1462.0        1462.0         DATE   \n",
       "2    Birthplace            1462.0        1462.0  CATEGORICAL   \n",
       "3     Deathdate             457.0         457.0         DATE   \n",
       "4     Ethnicity            1462.0        1462.0  CATEGORICAL   \n",
       "\n",
       "              visualAttributes  \n",
       "0             [FOLDER, ACTIVE]  \n",
       "1         [LEAF, ACTIVE, DATE]  \n",
       "2  [LEAF, ACTIVE, CATEGORICAL]  \n",
       "3         [LEAF, ACTIVE, DATE]  \n",
       "4  [LEAF, ACTIVE, CATEGORICAL]  "
      ]
     },
     "execution_count": 5,
     "metadata": {},
     "output_type": "execute_result"
    }
   ],
   "source": [
    "tree.dataframe.head()"
   ]
  },
  {
   "cell_type": "markdown",
   "metadata": {},
   "source": [
    "# Querying for patients and observations\n",
    "The following example queries for recent, normal pregnancies from parents born in Boston or Cambridge, MA.  \n",
    "(Later we'll explore in more detail how to build such a query from scratch)"
   ]
  },
  {
   "cell_type": "code",
   "execution_count": 6,
   "metadata": {},
   "outputs": [
    {
     "name": "stdout",
     "output_type": "stream",
     "text": [
      "https://transmart.thehyve.net/v2/observations/counts\n"
     ]
    },
    {
     "data": {
      "text/plain": [
       "{'observationCount': 312, 'patientCount': 18}"
      ]
     },
     "execution_count": 6,
     "metadata": {},
     "output_type": "execute_result"
    }
   ],
   "source": [
    "pregnancy_constraint = \\\n",
    "    api.new_constraint(concept='Demographics:BIRTHPLACE', value_list=['Boston MA US', 'Cambridge MA US']) & \\\n",
    "    api.new_constraint(concept='Conditions-SNOMED:72892002', min_start_date='2009-01-01')\n",
    "\n",
    "api.observations.counts(constraint=pregnancy_constraint)"
   ]
  },
  {
   "cell_type": "markdown",
   "metadata": {},
   "source": [
    "With the above call we can quickly see the number of matching patients and the total number of observations (not just pregnancy observations) linked to these subjects, without needing to retrieve the data.\n",
    "\n",
    "Next, we retrieve the matching patients and show the details for the first five:"
   ]
  },
  {
   "cell_type": "code",
   "execution_count": 7,
   "metadata": {},
   "outputs": [
    {
     "name": "stdout",
     "output_type": "stream",
     "text": [
      "https://transmart.thehyve.net/v2/patients\n"
     ]
    },
    {
     "data": {
      "text/html": [
       "<div>\n",
       "<style scoped>\n",
       "    .dataframe tbody tr th:only-of-type {\n",
       "        vertical-align: middle;\n",
       "    }\n",
       "\n",
       "    .dataframe tbody tr th {\n",
       "        vertical-align: top;\n",
       "    }\n",
       "\n",
       "    .dataframe thead th {\n",
       "        text-align: right;\n",
       "    }\n",
       "</style>\n",
       "<table border=\"1\" class=\"dataframe\">\n",
       "  <thead>\n",
       "    <tr style=\"text-align: right;\">\n",
       "      <th></th>\n",
       "      <th>age</th>\n",
       "      <th>birthDate</th>\n",
       "      <th>deathDate</th>\n",
       "      <th>id</th>\n",
       "      <th>inTrialId</th>\n",
       "      <th>maritalStatus</th>\n",
       "      <th>race</th>\n",
       "      <th>religion</th>\n",
       "      <th>sex</th>\n",
       "      <th>subjectIds.SUBJ_ID</th>\n",
       "      <th>trial</th>\n",
       "    </tr>\n",
       "  </thead>\n",
       "  <tbody>\n",
       "    <tr>\n",
       "      <th>0</th>\n",
       "      <td>None</td>\n",
       "      <td>None</td>\n",
       "      <td>None</td>\n",
       "      <td>551</td>\n",
       "      <td>None</td>\n",
       "      <td>None</td>\n",
       "      <td>None</td>\n",
       "      <td>None</td>\n",
       "      <td>FEMALE</td>\n",
       "      <td>5d761208-d2b4-4569-b4d5-75882501cd83</td>\n",
       "      <td>5d761208-d2b4-4569-b4d5-75882501cd83</td>\n",
       "    </tr>\n",
       "    <tr>\n",
       "      <th>1</th>\n",
       "      <td>None</td>\n",
       "      <td>None</td>\n",
       "      <td>None</td>\n",
       "      <td>513</td>\n",
       "      <td>None</td>\n",
       "      <td>None</td>\n",
       "      <td>None</td>\n",
       "      <td>None</td>\n",
       "      <td>FEMALE</td>\n",
       "      <td>57029c04-71c3-4840-8c66-7586c47bfb3f</td>\n",
       "      <td>57029c04-71c3-4840-8c66-7586c47bfb3f</td>\n",
       "    </tr>\n",
       "    <tr>\n",
       "      <th>2</th>\n",
       "      <td>None</td>\n",
       "      <td>None</td>\n",
       "      <td>None</td>\n",
       "      <td>954</td>\n",
       "      <td>None</td>\n",
       "      <td>None</td>\n",
       "      <td>None</td>\n",
       "      <td>None</td>\n",
       "      <td>FEMALE</td>\n",
       "      <td>a1a7fa23-7201-4705-b2a1-b423c0a882a2</td>\n",
       "      <td>a1a7fa23-7201-4705-b2a1-b423c0a882a2</td>\n",
       "    </tr>\n",
       "    <tr>\n",
       "      <th>3</th>\n",
       "      <td>None</td>\n",
       "      <td>None</td>\n",
       "      <td>None</td>\n",
       "      <td>924</td>\n",
       "      <td>None</td>\n",
       "      <td>None</td>\n",
       "      <td>None</td>\n",
       "      <td>None</td>\n",
       "      <td>FEMALE</td>\n",
       "      <td>9cd7b77b-317d-43c0-baac-1f4637cb9eeb</td>\n",
       "      <td>9cd7b77b-317d-43c0-baac-1f4637cb9eeb</td>\n",
       "    </tr>\n",
       "    <tr>\n",
       "      <th>4</th>\n",
       "      <td>None</td>\n",
       "      <td>None</td>\n",
       "      <td>None</td>\n",
       "      <td>363</td>\n",
       "      <td>None</td>\n",
       "      <td>None</td>\n",
       "      <td>None</td>\n",
       "      <td>None</td>\n",
       "      <td>FEMALE</td>\n",
       "      <td>3bda8038-e158-4b07-ab06-42ec8a6a34f7</td>\n",
       "      <td>3bda8038-e158-4b07-ab06-42ec8a6a34f7</td>\n",
       "    </tr>\n",
       "  </tbody>\n",
       "</table>\n",
       "</div>"
      ],
      "text/plain": [
       "    age birthDate deathDate   id inTrialId maritalStatus  race religion  \\\n",
       "0  None      None      None  551      None          None  None     None   \n",
       "1  None      None      None  513      None          None  None     None   \n",
       "2  None      None      None  954      None          None  None     None   \n",
       "3  None      None      None  924      None          None  None     None   \n",
       "4  None      None      None  363      None          None  None     None   \n",
       "\n",
       "      sex                    subjectIds.SUBJ_ID  \\\n",
       "0  FEMALE  5d761208-d2b4-4569-b4d5-75882501cd83   \n",
       "1  FEMALE  57029c04-71c3-4840-8c66-7586c47bfb3f   \n",
       "2  FEMALE  a1a7fa23-7201-4705-b2a1-b423c0a882a2   \n",
       "3  FEMALE  9cd7b77b-317d-43c0-baac-1f4637cb9eeb   \n",
       "4  FEMALE  3bda8038-e158-4b07-ab06-42ec8a6a34f7   \n",
       "\n",
       "                                  trial  \n",
       "0  5d761208-d2b4-4569-b4d5-75882501cd83  \n",
       "1  57029c04-71c3-4840-8c66-7586c47bfb3f  \n",
       "2  a1a7fa23-7201-4705-b2a1-b423c0a882a2  \n",
       "3  9cd7b77b-317d-43c0-baac-1f4637cb9eeb  \n",
       "4  3bda8038-e158-4b07-ab06-42ec8a6a34f7  "
      ]
     },
     "execution_count": 7,
     "metadata": {},
     "output_type": "execute_result"
    }
   ],
   "source": [
    "api.patients(constraint=pregnancy_constraint).dataframe.head()"
   ]
  },
  {
   "cell_type": "markdown",
   "metadata": {},
   "source": [
    "Let's also show the first five observations linked to this patient set:"
   ]
  },
  {
   "cell_type": "code",
   "execution_count": 8,
   "metadata": {},
   "outputs": [
    {
     "name": "stdout",
     "output_type": "stream",
     "text": [
      "https://transmart.thehyve.net/v2/observations?type=clinical&constraint={\"type\": \"and\", \"args\": [{\"type\": \"subselection\", \"dimension\": \"patient\", \"constraint\": {\"args\": [{\"type\": \"concept\", \"conceptCode\": \"Demographics:BIRTHPLACE\"}, {\"type\": \"or\", \"args\": [{\"type\": \"value\", \"valueType\": \"STRING\", \"operator\": \"=\", \"value\": \"Boston MA US\"}, {\"type\": \"value\", \"valueType\": \"STRING\", \"operator\": \"=\", \"value\": \"Cambridge MA US\"}]}], \"type\": \"and\"}}, {\"type\": \"subselection\", \"dimension\": \"patient\", \"constraint\": {\"args\": [{\"type\": \"concept\", \"conceptCode\": \"Conditions-SNOMED:72892002\"}, {\"type\": \"time\", \"field\": {\"dimension\": \"start time\", \"fieldName\": \"startDate\", \"type\": \"DATE\"}, \"operator\": \"->\", \"values\": [\"2009-01-01T00:00:00+00:00\"]}], \"type\": \"and\"}}]}\n"
     ]
    },
    {
     "data": {
      "text/html": [
       "<div>\n",
       "<style scoped>\n",
       "    .dataframe tbody tr th:only-of-type {\n",
       "        vertical-align: middle;\n",
       "    }\n",
       "\n",
       "    .dataframe tbody tr th {\n",
       "        vertical-align: top;\n",
       "    }\n",
       "\n",
       "    .dataframe thead th {\n",
       "        text-align: right;\n",
       "    }\n",
       "</style>\n",
       "<table border=\"1\" class=\"dataframe\">\n",
       "  <thead>\n",
       "    <tr style=\"text-align: right;\">\n",
       "      <th></th>\n",
       "      <th>concept.conceptCode</th>\n",
       "      <th>concept.conceptPath</th>\n",
       "      <th>concept.name</th>\n",
       "      <th>patient.age</th>\n",
       "      <th>patient.birthDate</th>\n",
       "      <th>patient.deathDate</th>\n",
       "      <th>patient.id</th>\n",
       "      <th>patient.inTrialId</th>\n",
       "      <th>patient.maritalStatus</th>\n",
       "      <th>patient.race</th>\n",
       "      <th>patient.religion</th>\n",
       "      <th>patient.sex</th>\n",
       "      <th>patient.sexCd</th>\n",
       "      <th>patient.subjectIds.SUBJ_ID</th>\n",
       "      <th>patient.trial</th>\n",
       "      <th>start time</th>\n",
       "      <th>stringValue</th>\n",
       "      <th>study.name</th>\n",
       "    </tr>\n",
       "  </thead>\n",
       "  <tbody>\n",
       "    <tr>\n",
       "      <th>0</th>\n",
       "      <td>Conditions-ICD10:J20</td>\n",
       "      <td>\\Conditions\\ICD10\\Acute bronchitis [J20]\\</td>\n",
       "      <td>Acute bronchitis [J20]</td>\n",
       "      <td>None</td>\n",
       "      <td>None</td>\n",
       "      <td>None</td>\n",
       "      <td>551</td>\n",
       "      <td>None</td>\n",
       "      <td>None</td>\n",
       "      <td>None</td>\n",
       "      <td>None</td>\n",
       "      <td>female</td>\n",
       "      <td>F</td>\n",
       "      <td>5d761208-d2b4-4569-b4d5-75882501cd83</td>\n",
       "      <td>5d761208-d2b4-4569-b4d5-75882501cd83</td>\n",
       "      <td>2011-02-03T00:00:00Z</td>\n",
       "      <td>Acute bronchitis (disorder)</td>\n",
       "      <td>SYNTHETICMASS</td>\n",
       "    </tr>\n",
       "    <tr>\n",
       "      <th>1</th>\n",
       "      <td>Conditions-ICD10:O15.0</td>\n",
       "      <td>\\Conditions\\ICD10\\Eclampsia [O15]\\Eclampsia in...</td>\n",
       "      <td>Eclampsia in pregnancy [O15.0]</td>\n",
       "      <td>None</td>\n",
       "      <td>None</td>\n",
       "      <td>None</td>\n",
       "      <td>551</td>\n",
       "      <td>None</td>\n",
       "      <td>None</td>\n",
       "      <td>None</td>\n",
       "      <td>None</td>\n",
       "      <td>female</td>\n",
       "      <td>F</td>\n",
       "      <td>5d761208-d2b4-4569-b4d5-75882501cd83</td>\n",
       "      <td>5d761208-d2b4-4569-b4d5-75882501cd83</td>\n",
       "      <td>2015-12-01T00:00:00Z</td>\n",
       "      <td>Antepartum eclampsia</td>\n",
       "      <td>SYNTHETICMASS</td>\n",
       "    </tr>\n",
       "    <tr>\n",
       "      <th>2</th>\n",
       "      <td>Conditions-ICD10:Z34</td>\n",
       "      <td>\\Conditions\\ICD10\\Supervision of normal pregna...</td>\n",
       "      <td>Supervision of normal pregnancy [Z34]</td>\n",
       "      <td>None</td>\n",
       "      <td>None</td>\n",
       "      <td>None</td>\n",
       "      <td>551</td>\n",
       "      <td>None</td>\n",
       "      <td>None</td>\n",
       "      <td>None</td>\n",
       "      <td>None</td>\n",
       "      <td>female</td>\n",
       "      <td>F</td>\n",
       "      <td>5d761208-d2b4-4569-b4d5-75882501cd83</td>\n",
       "      <td>5d761208-d2b4-4569-b4d5-75882501cd83</td>\n",
       "      <td>2008-02-12T00:00:00Z</td>\n",
       "      <td>Normal pregnancy</td>\n",
       "      <td>SYNTHETICMASS</td>\n",
       "    </tr>\n",
       "    <tr>\n",
       "      <th>3</th>\n",
       "      <td>Conditions-ICD10:Z34</td>\n",
       "      <td>\\Conditions\\ICD10\\Supervision of normal pregna...</td>\n",
       "      <td>Supervision of normal pregnancy [Z34]</td>\n",
       "      <td>None</td>\n",
       "      <td>None</td>\n",
       "      <td>None</td>\n",
       "      <td>551</td>\n",
       "      <td>None</td>\n",
       "      <td>None</td>\n",
       "      <td>None</td>\n",
       "      <td>None</td>\n",
       "      <td>female</td>\n",
       "      <td>F</td>\n",
       "      <td>5d761208-d2b4-4569-b4d5-75882501cd83</td>\n",
       "      <td>5d761208-d2b4-4569-b4d5-75882501cd83</td>\n",
       "      <td>2008-10-07T00:00:00Z</td>\n",
       "      <td>Normal pregnancy</td>\n",
       "      <td>SYNTHETICMASS</td>\n",
       "    </tr>\n",
       "    <tr>\n",
       "      <th>4</th>\n",
       "      <td>Conditions-ICD10:Z34</td>\n",
       "      <td>\\Conditions\\ICD10\\Supervision of normal pregna...</td>\n",
       "      <td>Supervision of normal pregnancy [Z34]</td>\n",
       "      <td>None</td>\n",
       "      <td>None</td>\n",
       "      <td>None</td>\n",
       "      <td>551</td>\n",
       "      <td>None</td>\n",
       "      <td>None</td>\n",
       "      <td>None</td>\n",
       "      <td>None</td>\n",
       "      <td>female</td>\n",
       "      <td>F</td>\n",
       "      <td>5d761208-d2b4-4569-b4d5-75882501cd83</td>\n",
       "      <td>5d761208-d2b4-4569-b4d5-75882501cd83</td>\n",
       "      <td>2015-03-24T00:00:00Z</td>\n",
       "      <td>Normal pregnancy</td>\n",
       "      <td>SYNTHETICMASS</td>\n",
       "    </tr>\n",
       "  </tbody>\n",
       "</table>\n",
       "</div>"
      ],
      "text/plain": [
       "      concept.conceptCode                                concept.conceptPath  \\\n",
       "0    Conditions-ICD10:J20          \\Conditions\\ICD10\\Acute bronchitis [J20]\\   \n",
       "1  Conditions-ICD10:O15.0  \\Conditions\\ICD10\\Eclampsia [O15]\\Eclampsia in...   \n",
       "2    Conditions-ICD10:Z34  \\Conditions\\ICD10\\Supervision of normal pregna...   \n",
       "3    Conditions-ICD10:Z34  \\Conditions\\ICD10\\Supervision of normal pregna...   \n",
       "4    Conditions-ICD10:Z34  \\Conditions\\ICD10\\Supervision of normal pregna...   \n",
       "\n",
       "                            concept.name patient.age patient.birthDate  \\\n",
       "0                 Acute bronchitis [J20]        None              None   \n",
       "1         Eclampsia in pregnancy [O15.0]        None              None   \n",
       "2  Supervision of normal pregnancy [Z34]        None              None   \n",
       "3  Supervision of normal pregnancy [Z34]        None              None   \n",
       "4  Supervision of normal pregnancy [Z34]        None              None   \n",
       "\n",
       "  patient.deathDate  patient.id patient.inTrialId patient.maritalStatus  \\\n",
       "0              None         551              None                  None   \n",
       "1              None         551              None                  None   \n",
       "2              None         551              None                  None   \n",
       "3              None         551              None                  None   \n",
       "4              None         551              None                  None   \n",
       "\n",
       "  patient.race patient.religion patient.sex patient.sexCd  \\\n",
       "0         None             None      female             F   \n",
       "1         None             None      female             F   \n",
       "2         None             None      female             F   \n",
       "3         None             None      female             F   \n",
       "4         None             None      female             F   \n",
       "\n",
       "             patient.subjectIds.SUBJ_ID                         patient.trial  \\\n",
       "0  5d761208-d2b4-4569-b4d5-75882501cd83  5d761208-d2b4-4569-b4d5-75882501cd83   \n",
       "1  5d761208-d2b4-4569-b4d5-75882501cd83  5d761208-d2b4-4569-b4d5-75882501cd83   \n",
       "2  5d761208-d2b4-4569-b4d5-75882501cd83  5d761208-d2b4-4569-b4d5-75882501cd83   \n",
       "3  5d761208-d2b4-4569-b4d5-75882501cd83  5d761208-d2b4-4569-b4d5-75882501cd83   \n",
       "4  5d761208-d2b4-4569-b4d5-75882501cd83  5d761208-d2b4-4569-b4d5-75882501cd83   \n",
       "\n",
       "             start time                  stringValue     study.name  \n",
       "0  2011-02-03T00:00:00Z  Acute bronchitis (disorder)  SYNTHETICMASS  \n",
       "1  2015-12-01T00:00:00Z         Antepartum eclampsia  SYNTHETICMASS  \n",
       "2  2008-02-12T00:00:00Z             Normal pregnancy  SYNTHETICMASS  \n",
       "3  2008-10-07T00:00:00Z             Normal pregnancy  SYNTHETICMASS  \n",
       "4  2015-03-24T00:00:00Z             Normal pregnancy  SYNTHETICMASS  "
      ]
     },
     "execution_count": 8,
     "metadata": {},
     "output_type": "execute_result"
    }
   ],
   "source": [
    "api.observations(constraint=pregnancy_constraint).dataframe.head()"
   ]
  },
  {
   "cell_type": "markdown",
   "metadata": {},
   "source": [
    "Since we want to reuse this patient set, let's store it on the server and retrieve the returned patient set ID:"
   ]
  },
  {
   "cell_type": "code",
   "execution_count": 9,
   "metadata": {},
   "outputs": [
    {
     "name": "stdout",
     "output_type": "stream",
     "text": [
      "https://transmart.thehyve.net/v2/patient_sets?name=Recent pregnancies in Boston and Cambridge\n",
      "59126\n"
     ]
    }
   ],
   "source": [
    "patient_set_details = api.create_patient_set(\n",
    "    name=\"Recent pregnancies in Boston and Cambridge\", constraint=pregnancy_constraint)\n",
    "\n",
    "patient_set_id = patient_set_details['id']\n",
    "\n",
    "print(patient_set_id)"
   ]
  },
  {
   "cell_type": "markdown",
   "metadata": {},
   "source": [
    "Let's show the most recent stored patient sets linked to my user account, to see our newest included:"
   ]
  },
  {
   "cell_type": "code",
   "execution_count": 10,
   "metadata": {},
   "outputs": [
    {
     "name": "stdout",
     "output_type": "stream",
     "text": [
      "https://transmart.thehyve.net/v2/patient_sets\n"
     ]
    },
    {
     "data": {
      "text/html": [
       "<div>\n",
       "<style scoped>\n",
       "    .dataframe tbody tr th:only-of-type {\n",
       "        vertical-align: middle;\n",
       "    }\n",
       "\n",
       "    .dataframe tbody tr th {\n",
       "        vertical-align: top;\n",
       "    }\n",
       "\n",
       "    .dataframe thead th {\n",
       "        text-align: right;\n",
       "    }\n",
       "</style>\n",
       "<table border=\"1\" class=\"dataframe\">\n",
       "  <thead>\n",
       "    <tr style=\"text-align: right;\">\n",
       "      <th></th>\n",
       "      <th>apiVersion</th>\n",
       "      <th>description</th>\n",
       "      <th>errorMessage</th>\n",
       "      <th>id</th>\n",
       "      <th>queryXML</th>\n",
       "      <th>requestConstraints</th>\n",
       "      <th>setSize</th>\n",
       "      <th>status</th>\n",
       "      <th>username</th>\n",
       "    </tr>\n",
       "  </thead>\n",
       "  <tbody>\n",
       "    <tr>\n",
       "      <th>88</th>\n",
       "      <td>v2</td>\n",
       "      <td>Cross table set</td>\n",
       "      <td>None</td>\n",
       "      <td>59122</td>\n",
       "      <td>None</td>\n",
       "      <td>{\"type\":\"and\",\"args\":[{\"type\":\"concept\",\"conce...</td>\n",
       "      <td>985</td>\n",
       "      <td>FINISHED</td>\n",
       "      <td>74814585-2219-4fd4-8766-11adbb2adbae</td>\n",
       "    </tr>\n",
       "    <tr>\n",
       "      <th>89</th>\n",
       "      <td>2.5</td>\n",
       "      <td>Recent pregnancies in Boston and Cambridge</td>\n",
       "      <td>None</td>\n",
       "      <td>59123</td>\n",
       "      <td>None</td>\n",
       "      <td>{\"type\":\"and\",\"args\":[{\"type\":\"subselection\",\"...</td>\n",
       "      <td>18</td>\n",
       "      <td>FINISHED</td>\n",
       "      <td>74814585-2219-4fd4-8766-11adbb2adbae</td>\n",
       "    </tr>\n",
       "    <tr>\n",
       "      <th>90</th>\n",
       "      <td>2.5</td>\n",
       "      <td>Recent pregnancies in Boston and Cambridge</td>\n",
       "      <td>None</td>\n",
       "      <td>59124</td>\n",
       "      <td>None</td>\n",
       "      <td>{\"type\":\"and\",\"args\":[{\"type\":\"subselection\",\"...</td>\n",
       "      <td>18</td>\n",
       "      <td>FINISHED</td>\n",
       "      <td>74814585-2219-4fd4-8766-11adbb2adbae</td>\n",
       "    </tr>\n",
       "    <tr>\n",
       "      <th>91</th>\n",
       "      <td>2.5</td>\n",
       "      <td>Recent pregnancies in Boston and Cambridge</td>\n",
       "      <td>None</td>\n",
       "      <td>59125</td>\n",
       "      <td>None</td>\n",
       "      <td>{\"type\":\"and\",\"args\":[{\"type\":\"subselection\",\"...</td>\n",
       "      <td>18</td>\n",
       "      <td>FINISHED</td>\n",
       "      <td>74814585-2219-4fd4-8766-11adbb2adbae</td>\n",
       "    </tr>\n",
       "    <tr>\n",
       "      <th>92</th>\n",
       "      <td>2.5</td>\n",
       "      <td>Recent pregnancies in Boston and Cambridge</td>\n",
       "      <td>None</td>\n",
       "      <td>59126</td>\n",
       "      <td>None</td>\n",
       "      <td>{\"type\":\"and\",\"args\":[{\"type\":\"subselection\",\"...</td>\n",
       "      <td>18</td>\n",
       "      <td>FINISHED</td>\n",
       "      <td>74814585-2219-4fd4-8766-11adbb2adbae</td>\n",
       "    </tr>\n",
       "  </tbody>\n",
       "</table>\n",
       "</div>"
      ],
      "text/plain": [
       "   apiVersion                                 description errorMessage     id  \\\n",
       "88         v2                             Cross table set         None  59122   \n",
       "89        2.5  Recent pregnancies in Boston and Cambridge         None  59123   \n",
       "90        2.5  Recent pregnancies in Boston and Cambridge         None  59124   \n",
       "91        2.5  Recent pregnancies in Boston and Cambridge         None  59125   \n",
       "92        2.5  Recent pregnancies in Boston and Cambridge         None  59126   \n",
       "\n",
       "   queryXML                                 requestConstraints  setSize  \\\n",
       "88     None  {\"type\":\"and\",\"args\":[{\"type\":\"concept\",\"conce...      985   \n",
       "89     None  {\"type\":\"and\",\"args\":[{\"type\":\"subselection\",\"...       18   \n",
       "90     None  {\"type\":\"and\",\"args\":[{\"type\":\"subselection\",\"...       18   \n",
       "91     None  {\"type\":\"and\",\"args\":[{\"type\":\"subselection\",\"...       18   \n",
       "92     None  {\"type\":\"and\",\"args\":[{\"type\":\"subselection\",\"...       18   \n",
       "\n",
       "      status                              username  \n",
       "88  FINISHED  74814585-2219-4fd4-8766-11adbb2adbae  \n",
       "89  FINISHED  74814585-2219-4fd4-8766-11adbb2adbae  \n",
       "90  FINISHED  74814585-2219-4fd4-8766-11adbb2adbae  \n",
       "91  FINISHED  74814585-2219-4fd4-8766-11adbb2adbae  \n",
       "92  FINISHED  74814585-2219-4fd4-8766-11adbb2adbae  "
      ]
     },
     "execution_count": 10,
     "metadata": {},
     "output_type": "execute_result"
    }
   ],
   "source": [
    "patient_sets = api.patient_sets()\n",
    "patient_sets.dataframe.sort_values(by='id', axis=0).tail()\n",
    "\n",
    "# Note: Currently only patient sets saved via the API or those used in the Cross Table in Glowing Bear are shown"
   ]
  },
  {
   "cell_type": "markdown",
   "metadata": {},
   "source": [
    "We can now use this patient set ID to continue making queries. For example, with the following query that requests only the Ethnicity data for our selected subjects:"
   ]
  },
  {
   "cell_type": "code",
   "execution_count": 11,
   "metadata": {},
   "outputs": [
    {
     "name": "stdout",
     "output_type": "stream",
     "text": [
      "https://transmart.thehyve.net/v2/observations?type=clinical&constraint={\"args\": [{\"type\": \"concept\", \"conceptCode\": \"Demographics:ETHNICITY\"}, {\"type\": \"patient_set\", \"patientSetId\": 59126}], \"type\": \"and\"}\n"
     ]
    },
    {
     "data": {
      "text/html": [
       "<div>\n",
       "<style scoped>\n",
       "    .dataframe tbody tr th:only-of-type {\n",
       "        vertical-align: middle;\n",
       "    }\n",
       "\n",
       "    .dataframe tbody tr th {\n",
       "        vertical-align: top;\n",
       "    }\n",
       "\n",
       "    .dataframe thead th {\n",
       "        text-align: right;\n",
       "    }\n",
       "</style>\n",
       "<table border=\"1\" class=\"dataframe\">\n",
       "  <thead>\n",
       "    <tr style=\"text-align: right;\">\n",
       "      <th></th>\n",
       "      <th>concept.conceptCode</th>\n",
       "      <th>concept.conceptPath</th>\n",
       "      <th>concept.name</th>\n",
       "      <th>patient.age</th>\n",
       "      <th>patient.birthDate</th>\n",
       "      <th>patient.deathDate</th>\n",
       "      <th>patient.id</th>\n",
       "      <th>patient.inTrialId</th>\n",
       "      <th>patient.maritalStatus</th>\n",
       "      <th>patient.race</th>\n",
       "      <th>patient.religion</th>\n",
       "      <th>patient.sex</th>\n",
       "      <th>patient.sexCd</th>\n",
       "      <th>patient.subjectIds.SUBJ_ID</th>\n",
       "      <th>patient.trial</th>\n",
       "      <th>start time</th>\n",
       "      <th>stringValue</th>\n",
       "      <th>study.name</th>\n",
       "    </tr>\n",
       "  </thead>\n",
       "  <tbody>\n",
       "    <tr>\n",
       "      <th>0</th>\n",
       "      <td>Demographics:ETHNICITY</td>\n",
       "      <td>\\Demographics\\Ethnicity\\</td>\n",
       "      <td>Ethnicity</td>\n",
       "      <td>None</td>\n",
       "      <td>None</td>\n",
       "      <td>None</td>\n",
       "      <td>551</td>\n",
       "      <td>None</td>\n",
       "      <td>None</td>\n",
       "      <td>None</td>\n",
       "      <td>None</td>\n",
       "      <td>female</td>\n",
       "      <td>F</td>\n",
       "      <td>5d761208-d2b4-4569-b4d5-75882501cd83</td>\n",
       "      <td>5d761208-d2b4-4569-b4d5-75882501cd83</td>\n",
       "      <td>None</td>\n",
       "      <td>irish</td>\n",
       "      <td>SYNTHETICMASS</td>\n",
       "    </tr>\n",
       "    <tr>\n",
       "      <th>1</th>\n",
       "      <td>Demographics:ETHNICITY</td>\n",
       "      <td>\\Demographics\\Ethnicity\\</td>\n",
       "      <td>Ethnicity</td>\n",
       "      <td>None</td>\n",
       "      <td>None</td>\n",
       "      <td>None</td>\n",
       "      <td>1072</td>\n",
       "      <td>None</td>\n",
       "      <td>None</td>\n",
       "      <td>None</td>\n",
       "      <td>None</td>\n",
       "      <td>female</td>\n",
       "      <td>F</td>\n",
       "      <td>b78252ec-a5b0-46e0-bf3f-4cfbae092b10</td>\n",
       "      <td>b78252ec-a5b0-46e0-bf3f-4cfbae092b10</td>\n",
       "      <td>None</td>\n",
       "      <td>irish</td>\n",
       "      <td>SYNTHETICMASS</td>\n",
       "    </tr>\n",
       "    <tr>\n",
       "      <th>2</th>\n",
       "      <td>Demographics:ETHNICITY</td>\n",
       "      <td>\\Demographics\\Ethnicity\\</td>\n",
       "      <td>Ethnicity</td>\n",
       "      <td>None</td>\n",
       "      <td>None</td>\n",
       "      <td>None</td>\n",
       "      <td>1194</td>\n",
       "      <td>None</td>\n",
       "      <td>None</td>\n",
       "      <td>None</td>\n",
       "      <td>None</td>\n",
       "      <td>female</td>\n",
       "      <td>F</td>\n",
       "      <td>ce5f7896-1630-439f-888c-204f220a77ff</td>\n",
       "      <td>ce5f7896-1630-439f-888c-204f220a77ff</td>\n",
       "      <td>None</td>\n",
       "      <td>american</td>\n",
       "      <td>SYNTHETICMASS</td>\n",
       "    </tr>\n",
       "    <tr>\n",
       "      <th>3</th>\n",
       "      <td>Demographics:ETHNICITY</td>\n",
       "      <td>\\Demographics\\Ethnicity\\</td>\n",
       "      <td>Ethnicity</td>\n",
       "      <td>None</td>\n",
       "      <td>None</td>\n",
       "      <td>None</td>\n",
       "      <td>924</td>\n",
       "      <td>None</td>\n",
       "      <td>None</td>\n",
       "      <td>None</td>\n",
       "      <td>None</td>\n",
       "      <td>female</td>\n",
       "      <td>F</td>\n",
       "      <td>9cd7b77b-317d-43c0-baac-1f4637cb9eeb</td>\n",
       "      <td>9cd7b77b-317d-43c0-baac-1f4637cb9eeb</td>\n",
       "      <td>None</td>\n",
       "      <td>italian</td>\n",
       "      <td>SYNTHETICMASS</td>\n",
       "    </tr>\n",
       "    <tr>\n",
       "      <th>4</th>\n",
       "      <td>Demographics:ETHNICITY</td>\n",
       "      <td>\\Demographics\\Ethnicity\\</td>\n",
       "      <td>Ethnicity</td>\n",
       "      <td>None</td>\n",
       "      <td>None</td>\n",
       "      <td>None</td>\n",
       "      <td>954</td>\n",
       "      <td>None</td>\n",
       "      <td>None</td>\n",
       "      <td>None</td>\n",
       "      <td>None</td>\n",
       "      <td>female</td>\n",
       "      <td>F</td>\n",
       "      <td>a1a7fa23-7201-4705-b2a1-b423c0a882a2</td>\n",
       "      <td>a1a7fa23-7201-4705-b2a1-b423c0a882a2</td>\n",
       "      <td>None</td>\n",
       "      <td>polish</td>\n",
       "      <td>SYNTHETICMASS</td>\n",
       "    </tr>\n",
       "  </tbody>\n",
       "</table>\n",
       "</div>"
      ],
      "text/plain": [
       "      concept.conceptCode       concept.conceptPath concept.name patient.age  \\\n",
       "0  Demographics:ETHNICITY  \\Demographics\\Ethnicity\\    Ethnicity        None   \n",
       "1  Demographics:ETHNICITY  \\Demographics\\Ethnicity\\    Ethnicity        None   \n",
       "2  Demographics:ETHNICITY  \\Demographics\\Ethnicity\\    Ethnicity        None   \n",
       "3  Demographics:ETHNICITY  \\Demographics\\Ethnicity\\    Ethnicity        None   \n",
       "4  Demographics:ETHNICITY  \\Demographics\\Ethnicity\\    Ethnicity        None   \n",
       "\n",
       "  patient.birthDate patient.deathDate  patient.id patient.inTrialId  \\\n",
       "0              None              None         551              None   \n",
       "1              None              None        1072              None   \n",
       "2              None              None        1194              None   \n",
       "3              None              None         924              None   \n",
       "4              None              None         954              None   \n",
       "\n",
       "  patient.maritalStatus patient.race patient.religion patient.sex  \\\n",
       "0                  None         None             None      female   \n",
       "1                  None         None             None      female   \n",
       "2                  None         None             None      female   \n",
       "3                  None         None             None      female   \n",
       "4                  None         None             None      female   \n",
       "\n",
       "  patient.sexCd            patient.subjectIds.SUBJ_ID  \\\n",
       "0             F  5d761208-d2b4-4569-b4d5-75882501cd83   \n",
       "1             F  b78252ec-a5b0-46e0-bf3f-4cfbae092b10   \n",
       "2             F  ce5f7896-1630-439f-888c-204f220a77ff   \n",
       "3             F  9cd7b77b-317d-43c0-baac-1f4637cb9eeb   \n",
       "4             F  a1a7fa23-7201-4705-b2a1-b423c0a882a2   \n",
       "\n",
       "                          patient.trial start time stringValue     study.name  \n",
       "0  5d761208-d2b4-4569-b4d5-75882501cd83       None       irish  SYNTHETICMASS  \n",
       "1  b78252ec-a5b0-46e0-bf3f-4cfbae092b10       None       irish  SYNTHETICMASS  \n",
       "2  ce5f7896-1630-439f-888c-204f220a77ff       None    american  SYNTHETICMASS  \n",
       "3  9cd7b77b-317d-43c0-baac-1f4637cb9eeb       None     italian  SYNTHETICMASS  \n",
       "4  a1a7fa23-7201-4705-b2a1-b423c0a882a2       None      polish  SYNTHETICMASS  "
      ]
     },
     "execution_count": 11,
     "metadata": {},
     "output_type": "execute_result"
    }
   ],
   "source": [
    "one_concept_constraint = api.new_constraint(subject_set_id=patient_set_id, concept='Demographics:ETHNICITY')\n",
    "api.observations(constraint=one_concept_constraint).dataframe.head()"
   ]
  },
  {
   "cell_type": "markdown",
   "metadata": {},
   "source": [
    "# Constructing a query\n",
    "Below we will, step by step, create the query for: _Men with Type 2 Diabetes_.\n",
    "\n",
    "If a concept is easily found by browsing the tree, like Gender under Demographics, we can start with that:"
   ]
  },
  {
   "cell_type": "code",
   "execution_count": 12,
   "metadata": {},
   "outputs": [
    {
     "name": "stdout",
     "output_type": "stream",
     "text": [
      "https://transmart.thehyve.net/v2/tree_nodes?root=\\Demographics\\&depth=2&counts=False&tags=True\n"
     ]
    },
    {
     "data": {
      "text/html": [
       "<div>\n",
       "<style scoped>\n",
       "    .dataframe tbody tr th:only-of-type {\n",
       "        vertical-align: middle;\n",
       "    }\n",
       "\n",
       "    .dataframe tbody tr th {\n",
       "        vertical-align: top;\n",
       "    }\n",
       "\n",
       "    .dataframe thead th {\n",
       "        text-align: right;\n",
       "    }\n",
       "</style>\n",
       "<table border=\"1\" class=\"dataframe\">\n",
       "  <thead>\n",
       "    <tr style=\"text-align: right;\">\n",
       "      <th></th>\n",
       "      <th>conceptCode</th>\n",
       "      <th>conceptPath</th>\n",
       "      <th>constraint.conceptCode</th>\n",
       "      <th>constraint.type</th>\n",
       "      <th>fullName</th>\n",
       "      <th>name</th>\n",
       "      <th>type</th>\n",
       "      <th>visualAttributes</th>\n",
       "    </tr>\n",
       "  </thead>\n",
       "  <tbody>\n",
       "    <tr>\n",
       "      <th>0</th>\n",
       "      <td>NaN</td>\n",
       "      <td>NaN</td>\n",
       "      <td>NaN</td>\n",
       "      <td>NaN</td>\n",
       "      <td>\\Demographics\\</td>\n",
       "      <td>Demographics</td>\n",
       "      <td>UNKNOWN</td>\n",
       "      <td>[FOLDER, ACTIVE]</td>\n",
       "    </tr>\n",
       "    <tr>\n",
       "      <th>1</th>\n",
       "      <td>Demographics:BIRTHDATE</td>\n",
       "      <td>\\Demographics\\Birthdate\\</td>\n",
       "      <td>Demographics:BIRTHDATE</td>\n",
       "      <td>concept</td>\n",
       "      <td>\\Demographics\\Birthdate\\</td>\n",
       "      <td>Birthdate</td>\n",
       "      <td>DATE</td>\n",
       "      <td>[LEAF, ACTIVE, DATE]</td>\n",
       "    </tr>\n",
       "    <tr>\n",
       "      <th>2</th>\n",
       "      <td>Demographics:BIRTHPLACE</td>\n",
       "      <td>\\Demographics\\Birthplace\\</td>\n",
       "      <td>Demographics:BIRTHPLACE</td>\n",
       "      <td>concept</td>\n",
       "      <td>\\Demographics\\Birthplace\\</td>\n",
       "      <td>Birthplace</td>\n",
       "      <td>CATEGORICAL</td>\n",
       "      <td>[LEAF, ACTIVE, CATEGORICAL]</td>\n",
       "    </tr>\n",
       "    <tr>\n",
       "      <th>3</th>\n",
       "      <td>Demographics:DEATHDATE</td>\n",
       "      <td>\\Demographics\\Deathdate\\</td>\n",
       "      <td>Demographics:DEATHDATE</td>\n",
       "      <td>concept</td>\n",
       "      <td>\\Demographics\\Deathdate\\</td>\n",
       "      <td>Deathdate</td>\n",
       "      <td>DATE</td>\n",
       "      <td>[LEAF, ACTIVE, DATE]</td>\n",
       "    </tr>\n",
       "    <tr>\n",
       "      <th>4</th>\n",
       "      <td>Demographics:ETHNICITY</td>\n",
       "      <td>\\Demographics\\Ethnicity\\</td>\n",
       "      <td>Demographics:ETHNICITY</td>\n",
       "      <td>concept</td>\n",
       "      <td>\\Demographics\\Ethnicity\\</td>\n",
       "      <td>Ethnicity</td>\n",
       "      <td>CATEGORICAL</td>\n",
       "      <td>[LEAF, ACTIVE, CATEGORICAL]</td>\n",
       "    </tr>\n",
       "    <tr>\n",
       "      <th>5</th>\n",
       "      <td>Demographics:GENDER</td>\n",
       "      <td>\\Demographics\\Gender\\</td>\n",
       "      <td>Demographics:GENDER</td>\n",
       "      <td>concept</td>\n",
       "      <td>\\Demographics\\Gender\\</td>\n",
       "      <td>Gender</td>\n",
       "      <td>CATEGORICAL</td>\n",
       "      <td>[LEAF, ACTIVE, CATEGORICAL]</td>\n",
       "    </tr>\n",
       "    <tr>\n",
       "      <th>6</th>\n",
       "      <td>Demographics:MARITAL</td>\n",
       "      <td>\\Demographics\\Marital\\</td>\n",
       "      <td>Demographics:MARITAL</td>\n",
       "      <td>concept</td>\n",
       "      <td>\\Demographics\\Marital\\</td>\n",
       "      <td>Marital</td>\n",
       "      <td>CATEGORICAL</td>\n",
       "      <td>[LEAF, ACTIVE, CATEGORICAL]</td>\n",
       "    </tr>\n",
       "    <tr>\n",
       "      <th>7</th>\n",
       "      <td>Demographics:RACE</td>\n",
       "      <td>\\Demographics\\Race\\</td>\n",
       "      <td>Demographics:RACE</td>\n",
       "      <td>concept</td>\n",
       "      <td>\\Demographics\\Race\\</td>\n",
       "      <td>Race</td>\n",
       "      <td>CATEGORICAL</td>\n",
       "      <td>[LEAF, ACTIVE, CATEGORICAL]</td>\n",
       "    </tr>\n",
       "  </tbody>\n",
       "</table>\n",
       "</div>"
      ],
      "text/plain": [
       "               conceptCode                conceptPath  \\\n",
       "0                      NaN                        NaN   \n",
       "1   Demographics:BIRTHDATE   \\Demographics\\Birthdate\\   \n",
       "2  Demographics:BIRTHPLACE  \\Demographics\\Birthplace\\   \n",
       "3   Demographics:DEATHDATE   \\Demographics\\Deathdate\\   \n",
       "4   Demographics:ETHNICITY   \\Demographics\\Ethnicity\\   \n",
       "5      Demographics:GENDER      \\Demographics\\Gender\\   \n",
       "6     Demographics:MARITAL     \\Demographics\\Marital\\   \n",
       "7        Demographics:RACE        \\Demographics\\Race\\   \n",
       "\n",
       "    constraint.conceptCode constraint.type                   fullName  \\\n",
       "0                      NaN             NaN             \\Demographics\\   \n",
       "1   Demographics:BIRTHDATE         concept   \\Demographics\\Birthdate\\   \n",
       "2  Demographics:BIRTHPLACE         concept  \\Demographics\\Birthplace\\   \n",
       "3   Demographics:DEATHDATE         concept   \\Demographics\\Deathdate\\   \n",
       "4   Demographics:ETHNICITY         concept   \\Demographics\\Ethnicity\\   \n",
       "5      Demographics:GENDER         concept      \\Demographics\\Gender\\   \n",
       "6     Demographics:MARITAL         concept     \\Demographics\\Marital\\   \n",
       "7        Demographics:RACE         concept        \\Demographics\\Race\\   \n",
       "\n",
       "           name         type             visualAttributes  \n",
       "0  Demographics      UNKNOWN             [FOLDER, ACTIVE]  \n",
       "1     Birthdate         DATE         [LEAF, ACTIVE, DATE]  \n",
       "2    Birthplace  CATEGORICAL  [LEAF, ACTIVE, CATEGORICAL]  \n",
       "3     Deathdate         DATE         [LEAF, ACTIVE, DATE]  \n",
       "4     Ethnicity  CATEGORICAL  [LEAF, ACTIVE, CATEGORICAL]  \n",
       "5        Gender  CATEGORICAL  [LEAF, ACTIVE, CATEGORICAL]  \n",
       "6       Marital  CATEGORICAL  [LEAF, ACTIVE, CATEGORICAL]  \n",
       "7          Race  CATEGORICAL  [LEAF, ACTIVE, CATEGORICAL]  "
      ]
     },
     "execution_count": 12,
     "metadata": {},
     "output_type": "execute_result"
    }
   ],
   "source": [
    "tree = api.tree_nodes(depth=2, root='\\\\Demographics\\\\')\n",
    "tree.dataframe"
   ]
  },
  {
   "cell_type": "markdown",
   "metadata": {},
   "source": [
    "We see that the concept code for Gender is `Demographics:GENDER`, which we will use to start our query constraint:"
   ]
  },
  {
   "cell_type": "code",
   "execution_count": 13,
   "metadata": {},
   "outputs": [
    {
     "name": "stdout",
     "output_type": "stream",
     "text": [
      "<class 'transmart.api.v2.constraints.composite.ObservationConstraint'>\n",
      "{\"type\": \"concept\", \"conceptCode\": \"Demographics:GENDER\"}\n"
     ]
    }
   ],
   "source": [
    "gender_constraint = api.new_constraint(concept='Demographics:GENDER')\n",
    "print(type(gender_constraint))\n",
    "print(gender_constraint)"
   ]
  },
  {
   "cell_type": "markdown",
   "metadata": {},
   "source": [
    "We see that the type of the constraint is an `ObservationConstraint`. And below that we see the representation of our current query.\n",
    "\n",
    "All parts of our query that need to be true within the same observation will need to be added to the same `ObservationConstraint`. For the _Men_ part of our query both concept Gender and value Male need to be true for the same observation, so they should be together in one `ObservationConstraint`.  \n",
    "The _Type 2 Diabetes_ will need to be a separate observation for the same patients, so we will later create a separate `ObservationConstraint` for that.\n",
    "\n",
    "Now, we're not just interested in anyone with a recorded Gender, but only those were the value for this is Male. Let's see what the possible values for Gender are:"
   ]
  },
  {
   "cell_type": "code",
   "execution_count": 14,
   "metadata": {},
   "outputs": [
    {
     "name": "stdout",
     "output_type": "stream",
     "text": [
      "https://transmart.thehyve.net/v2/observations/aggregates_per_concept\n"
     ]
    },
    {
     "data": {
      "text/plain": [
       "{'aggregatesPerConcept': {'Demographics:GENDER': {'categoricalValueAggregates': {'nullValueCounts': 0,\n",
       "    'valueCounts': {'F': 721, 'M': 741}}}}}"
      ]
     },
     "execution_count": 14,
     "metadata": {},
     "output_type": "execute_result"
    }
   ],
   "source": [
    "api.observations.aggregates_per_concept(constraint=gender_constraint)"
   ]
  },
  {
   "cell_type": "markdown",
   "metadata": {},
   "source": [
    "We see that the possible values are F and M, where we are interested in the subjects with value M. For this we need to restrict our current constraint with the value M.\n",
    "\n",
    "We can see all possible parameters for our `ObservationConstraint` below:"
   ]
  },
  {
   "cell_type": "code",
   "execution_count": 15,
   "metadata": {},
   "outputs": [
    {
     "data": {
      "text/plain": [
       "{'concept': transmart.api.v2.constraints.atomic.ConceptCodeConstraint,\n",
       " 'study': transmart.api.v2.constraints.atomic.StudyConstraint,\n",
       " 'trial_visit': transmart.api.v2.constraints.atomic.TrialVisitConstraint,\n",
       " 'min_value': transmart.api.v2.constraints.atomic.MinValueConstraint,\n",
       " 'max_value': transmart.api.v2.constraints.atomic.MaxValueConstraint,\n",
       " 'min_date_value': transmart.api.v2.constraints.atomic.MinDateValueConstraint,\n",
       " 'max_date_value': transmart.api.v2.constraints.atomic.MaxDateValueConstraint,\n",
       " 'value_list': transmart.api.v2.constraints.atomic.ValueListConstraint,\n",
       " 'min_start_date': transmart.api.v2.constraints.atomic.StartTimeAfterConstraint,\n",
       " 'max_start_date': transmart.api.v2.constraints.atomic.StartTimeBeforeConstraint,\n",
       " 'subject_set_id': transmart.api.v2.constraints.atomic.SubjectSetConstraint}"
      ]
     },
     "execution_count": 15,
     "metadata": {},
     "output_type": "execute_result"
    }
   ],
   "source": [
    "api.new_constraint().params"
   ]
  },
  {
   "cell_type": "markdown",
   "metadata": {},
   "source": [
    "For restricting our categorical value we need to use `value_list` with a list including the value 'M':"
   ]
  },
  {
   "cell_type": "code",
   "execution_count": 16,
   "metadata": {},
   "outputs": [
    {
     "name": "stdout",
     "output_type": "stream",
     "text": [
      "{\"args\": [{\"type\": \"concept\", \"conceptCode\": \"Demographics:GENDER\"}, {\"type\": \"or\", \"args\": [{\"type\": \"value\", \"valueType\": \"STRING\", \"operator\": \"=\", \"value\": \"M\"}]}], \"type\": \"and\"}\n"
     ]
    }
   ],
   "source": [
    "gender_constraint.value_list = ['M']\n",
    "print(gender_constraint)"
   ]
  },
  {
   "cell_type": "markdown",
   "metadata": {},
   "source": [
    "We can see in the above representation that we are searching for all observations that are both linked to the Concept Gender AND has the value 'M'. We will thus find all observations of Gender male and the patients linked to those observations.\n",
    "\n",
    "Let's count how many observations and patients match this query:"
   ]
  },
  {
   "cell_type": "code",
   "execution_count": 17,
   "metadata": {},
   "outputs": [
    {
     "name": "stdout",
     "output_type": "stream",
     "text": [
      "https://transmart.thehyve.net/v2/observations/counts\n"
     ]
    },
    {
     "data": {
      "text/plain": [
       "{'observationCount': 741, 'patientCount': 741}"
      ]
     },
     "execution_count": 17,
     "metadata": {},
     "output_type": "execute_result"
    }
   ],
   "source": [
    "api.observations.counts(constraint=gender_constraint)"
   ]
  },
  {
   "cell_type": "markdown",
   "metadata": {},
   "source": [
    "The patient count indeed represents the number of male subjects in our study.\n",
    "\n",
    "Note that the observation count is not the the number of ALL observations linked to male patients, but only the observations of concept Gender with Value male.\n",
    "\n",
    "If we instead want to treat our query as a patient set, and want to know how many observations in total are linked to these patients we have to wrap our query in a patient subselection constraint:"
   ]
  },
  {
   "cell_type": "code",
   "execution_count": 18,
   "metadata": {},
   "outputs": [
    {
     "name": "stdout",
     "output_type": "stream",
     "text": [
      "{\"type\": \"subselection\", \"dimension\": \"patient\", \"constraint\": {\"args\": [{\"type\": \"concept\", \"conceptCode\": \"Demographics:GENDER\"}, {\"type\": \"or\", \"args\": [{\"type\": \"value\", \"valueType\": \"STRING\", \"operator\": \"=\", \"value\": \"M\"}]}], \"type\": \"and\"}}\n"
     ]
    }
   ],
   "source": [
    "gender_constraint.subselection = 'patient'\n",
    "print(gender_constraint)"
   ]
  },
  {
   "cell_type": "markdown",
   "metadata": {},
   "source": [
    "We will now see that the observation count for this query is indeed much higher:"
   ]
  },
  {
   "cell_type": "code",
   "execution_count": 19,
   "metadata": {},
   "outputs": [
    {
     "name": "stdout",
     "output_type": "stream",
     "text": [
      "https://transmart.thehyve.net/v2/observations/counts\n"
     ]
    },
    {
     "data": {
      "text/plain": [
       "{'observationCount': 8930, 'patientCount': 741}"
      ]
     },
     "execution_count": 19,
     "metadata": {},
     "output_type": "execute_result"
    }
   ],
   "source": [
    "api.observations.counts(constraint=gender_constraint)"
   ]
  },
  {
   "cell_type": "markdown",
   "metadata": {},
   "source": [
    "Our first `ObservationConstraint` for the _Male_ part of our question is done. Now, we need to find what the tree node or concept code is for _Type 2 Diabetes_.\n",
    "\n",
    "We know we have used SNOMED (and ICD10) to structure the data in our tranSMART server. In [Bioportal we find](https://bioportal.bioontology.org/ontologies/SNOMEDCT?p=classes&conceptid=44054006) that the SNOMED code (notation) for 'Type 2 diabetes mellitus' is 44054006. So let's search our tree for that:"
   ]
  },
  {
   "cell_type": "code",
   "execution_count": 20,
   "metadata": {},
   "outputs": [
    {
     "data": {
      "text/plain": [
       "['\\\\Conditions\\\\SNOMED\\\\SNOMED CT Concept [138875005]\\\\Clinical finding [404684003]\\\\Disease [64572001]\\\\Disorder by body site [123946008]\\\\Disorder of body system [362965005]\\\\Disorder of endocrine system [362969004]\\\\Diabetes mellitus [73211009]\\\\Type 2 diabetes mellitus [44054006]\\\\',\n",
       " '\\\\Conditions\\\\SNOMED\\\\SNOMED CT Concept [138875005]\\\\Clinical finding [404684003]\\\\Disease [64572001]\\\\Metabolic disease [75934005]\\\\Disorder of carbohydrate metabolism [20957000]\\\\Disorder of glucose metabolism [126877002]\\\\Diabetes mellitus [73211009]\\\\Type 2 diabetes mellitus [44054006]\\\\',\n",
       " '\\\\Conditions\\\\SNOMED\\\\SNOMED CT Concept [138875005]\\\\Clinical finding [404684003]\\\\Finding by site [118234003]\\\\Disorder by body site [123946008]\\\\Disorder of body system [362965005]\\\\Disorder of endocrine system [362969004]\\\\Diabetes mellitus [73211009]\\\\Type 2 diabetes mellitus [44054006]\\\\']"
      ]
     },
     "execution_count": 20,
     "metadata": {},
     "output_type": "execute_result"
    }
   ],
   "source": [
    "nodes_with_snomed_code = api.search_tree_node('name:44054006')\n",
    "nodes_with_snomed_code"
   ]
  },
  {
   "cell_type": "markdown",
   "metadata": {},
   "source": [
    "We see that three nodes match with the code, since Type 2 diabetes mellitus is placed under multiple parents in the SNOMED ontology tree. Since they are all referring to the same concept, we take the first node and get the node details:"
   ]
  },
  {
   "cell_type": "code",
   "execution_count": 21,
   "metadata": {},
   "outputs": [
    {
     "data": {
      "text/plain": [
       "{'conceptCode': 'Conditions-SNOMED:44054006',\n",
       " 'conceptPath': '\\\\Conditions\\\\SNOMED\\\\SNOMED CT Concept [138875005]\\\\Clinical finding [404684003]\\\\Finding by site [118234003]\\\\Disorder by body site [123946008]\\\\Disorder of body system [362965005]\\\\Disorder of endocrine system [362969004]\\\\Diabetes mellitus [73211009]\\\\Type 2 diabetes mellitus [44054006]\\\\',\n",
       " 'constraint.conceptCode': 'Conditions-SNOMED:44054006',\n",
       " 'constraint.type': 'concept',\n",
       " 'name': 'Type 2 diabetes mellitus [44054006]',\n",
       " 'type': 'CATEGORICAL',\n",
       " 'visualAttributes': ['LEAF', 'ACTIVE', 'CATEGORICAL']}"
      ]
     },
     "execution_count": 21,
     "metadata": {},
     "output_type": "execute_result"
    }
   ],
   "source": [
    "node_details = api.tree_dict[nodes_with_snomed_code[0]]\n",
    "node_details"
   ]
  },
  {
   "cell_type": "markdown",
   "metadata": {},
   "source": [
    "Here, we learn that the concept code in tranSMART Glowing Bear is `Conditions-SNOMED:44054006`, which we will use to construct our second `ObservationConstraint`:"
   ]
  },
  {
   "cell_type": "code",
   "execution_count": 22,
   "metadata": {},
   "outputs": [
    {
     "name": "stdout",
     "output_type": "stream",
     "text": [
      "{\"type\": \"subselection\", \"dimension\": \"patient\", \"constraint\": {\"type\": \"concept\", \"conceptCode\": \"Conditions-SNOMED:44054006\"}}\n",
      "\n",
      "https://transmart.thehyve.net/v2/observations/counts\n",
      "{'observationCount': 1764, 'patientCount': 97}\n"
     ]
    }
   ],
   "source": [
    "diabetes_constraint = api.new_constraint(\n",
    "    concept=node_details['constraint.conceptCode'], subselection='patient')\n",
    "print(diabetes_constraint)\n",
    "print()\n",
    "print(api.observations.counts(constraint=diabetes_constraint))"
   ]
  },
  {
   "cell_type": "markdown",
   "metadata": {},
   "source": [
    "Now we have also finished the second part of our query. We are now looking for the intersection between the two patient sets we have made.\n",
    "\n",
    "For this we can simply use the `&` or `|` operators and brackets to combine multiple `ObservationConstraints` into one `GroupConstraint`:"
   ]
  },
  {
   "cell_type": "code",
   "execution_count": 23,
   "metadata": {},
   "outputs": [
    {
     "name": "stdout",
     "output_type": "stream",
     "text": [
      "<class 'transmart.api.v2.constraints.composite.GroupConstraint'>\n",
      "\n",
      "{\"type\": \"and\", \"args\": [{\"type\": \"subselection\", \"dimension\": \"patient\", \"constraint\": {\"args\": [{\"type\": \"concept\", \"conceptCode\": \"Demographics:GENDER\"}, {\"type\": \"or\", \"args\": [{\"type\": \"value\", \"valueType\": \"STRING\", \"operator\": \"=\", \"value\": \"M\"}]}], \"type\": \"and\"}}, {\"type\": \"subselection\", \"dimension\": \"patient\", \"constraint\": {\"type\": \"concept\", \"conceptCode\": \"Conditions-SNOMED:44054006\"}}]}\n"
     ]
    }
   ],
   "source": [
    "men_with_diabetes_constraint = gender_constraint & diabetes_constraint\n",
    "print(type(men_with_diabetes_constraint))\n",
    "print()\n",
    "print(men_with_diabetes_constraint)"
   ]
  },
  {
   "cell_type": "markdown",
   "metadata": {},
   "source": [
    "Side note: When creating a `GroupConstraint`, the multiple `ObservationConstraint`s are automatically each wrapped with a patient subselection. So technically it wasn't necessary that we did this ourselves above for the two constraints.\n",
    "\n",
    "Now all that's left is for us to count our final query and retrieve the patients and observations of interest!"
   ]
  },
  {
   "cell_type": "code",
   "execution_count": 24,
   "metadata": {},
   "outputs": [
    {
     "name": "stdout",
     "output_type": "stream",
     "text": [
      "https://transmart.thehyve.net/v2/observations/counts\n",
      "{'observationCount': 805, 'patientCount': 44}\n",
      "https://transmart.thehyve.net/v2/patients\n"
     ]
    },
    {
     "data": {
      "text/html": [
       "<div>\n",
       "<style scoped>\n",
       "    .dataframe tbody tr th:only-of-type {\n",
       "        vertical-align: middle;\n",
       "    }\n",
       "\n",
       "    .dataframe tbody tr th {\n",
       "        vertical-align: top;\n",
       "    }\n",
       "\n",
       "    .dataframe thead th {\n",
       "        text-align: right;\n",
       "    }\n",
       "</style>\n",
       "<table border=\"1\" class=\"dataframe\">\n",
       "  <thead>\n",
       "    <tr style=\"text-align: right;\">\n",
       "      <th></th>\n",
       "      <th>age</th>\n",
       "      <th>birthDate</th>\n",
       "      <th>deathDate</th>\n",
       "      <th>id</th>\n",
       "      <th>inTrialId</th>\n",
       "      <th>maritalStatus</th>\n",
       "      <th>race</th>\n",
       "      <th>religion</th>\n",
       "      <th>sex</th>\n",
       "      <th>subjectIds.SUBJ_ID</th>\n",
       "      <th>trial</th>\n",
       "    </tr>\n",
       "  </thead>\n",
       "  <tbody>\n",
       "    <tr>\n",
       "      <th>0</th>\n",
       "      <td>None</td>\n",
       "      <td>None</td>\n",
       "      <td>None</td>\n",
       "      <td>62</td>\n",
       "      <td>None</td>\n",
       "      <td>None</td>\n",
       "      <td>None</td>\n",
       "      <td>None</td>\n",
       "      <td>MALE</td>\n",
       "      <td>093c5b43-9b43-40a4-8cb6-ba2292cba7c0</td>\n",
       "      <td>093c5b43-9b43-40a4-8cb6-ba2292cba7c0</td>\n",
       "    </tr>\n",
       "    <tr>\n",
       "      <th>1</th>\n",
       "      <td>None</td>\n",
       "      <td>None</td>\n",
       "      <td>None</td>\n",
       "      <td>158</td>\n",
       "      <td>None</td>\n",
       "      <td>None</td>\n",
       "      <td>None</td>\n",
       "      <td>None</td>\n",
       "      <td>MALE</td>\n",
       "      <td>1a2305e5-686d-4fc1-9c25-691b63dadcab</td>\n",
       "      <td>1a2305e5-686d-4fc1-9c25-691b63dadcab</td>\n",
       "    </tr>\n",
       "    <tr>\n",
       "      <th>2</th>\n",
       "      <td>None</td>\n",
       "      <td>None</td>\n",
       "      <td>None</td>\n",
       "      <td>231</td>\n",
       "      <td>None</td>\n",
       "      <td>None</td>\n",
       "      <td>None</td>\n",
       "      <td>None</td>\n",
       "      <td>MALE</td>\n",
       "      <td>27d3c718-96df-465f-b0de-227b958a3b67</td>\n",
       "      <td>27d3c718-96df-465f-b0de-227b958a3b67</td>\n",
       "    </tr>\n",
       "    <tr>\n",
       "      <th>3</th>\n",
       "      <td>None</td>\n",
       "      <td>None</td>\n",
       "      <td>None</td>\n",
       "      <td>245</td>\n",
       "      <td>None</td>\n",
       "      <td>None</td>\n",
       "      <td>None</td>\n",
       "      <td>None</td>\n",
       "      <td>MALE</td>\n",
       "      <td>29c6eb5a-27c0-49e5-8814-c71b153c5226</td>\n",
       "      <td>29c6eb5a-27c0-49e5-8814-c71b153c5226</td>\n",
       "    </tr>\n",
       "    <tr>\n",
       "      <th>4</th>\n",
       "      <td>None</td>\n",
       "      <td>None</td>\n",
       "      <td>None</td>\n",
       "      <td>303</td>\n",
       "      <td>None</td>\n",
       "      <td>None</td>\n",
       "      <td>None</td>\n",
       "      <td>None</td>\n",
       "      <td>MALE</td>\n",
       "      <td>32342351-2ce8-4fd3-a721-fbcd033cd3a9</td>\n",
       "      <td>32342351-2ce8-4fd3-a721-fbcd033cd3a9</td>\n",
       "    </tr>\n",
       "  </tbody>\n",
       "</table>\n",
       "</div>"
      ],
      "text/plain": [
       "    age birthDate deathDate   id inTrialId maritalStatus  race religion   sex  \\\n",
       "0  None      None      None   62      None          None  None     None  MALE   \n",
       "1  None      None      None  158      None          None  None     None  MALE   \n",
       "2  None      None      None  231      None          None  None     None  MALE   \n",
       "3  None      None      None  245      None          None  None     None  MALE   \n",
       "4  None      None      None  303      None          None  None     None  MALE   \n",
       "\n",
       "                     subjectIds.SUBJ_ID                                 trial  \n",
       "0  093c5b43-9b43-40a4-8cb6-ba2292cba7c0  093c5b43-9b43-40a4-8cb6-ba2292cba7c0  \n",
       "1  1a2305e5-686d-4fc1-9c25-691b63dadcab  1a2305e5-686d-4fc1-9c25-691b63dadcab  \n",
       "2  27d3c718-96df-465f-b0de-227b958a3b67  27d3c718-96df-465f-b0de-227b958a3b67  \n",
       "3  29c6eb5a-27c0-49e5-8814-c71b153c5226  29c6eb5a-27c0-49e5-8814-c71b153c5226  \n",
       "4  32342351-2ce8-4fd3-a721-fbcd033cd3a9  32342351-2ce8-4fd3-a721-fbcd033cd3a9  "
      ]
     },
     "metadata": {},
     "output_type": "display_data"
    },
    {
     "name": "stdout",
     "output_type": "stream",
     "text": [
      "https://transmart.thehyve.net/v2/observations?type=clinical&constraint={\"type\": \"and\", \"args\": [{\"type\": \"subselection\", \"dimension\": \"patient\", \"constraint\": {\"args\": [{\"type\": \"concept\", \"conceptCode\": \"Demographics:GENDER\"}, {\"type\": \"or\", \"args\": [{\"type\": \"value\", \"valueType\": \"STRING\", \"operator\": \"=\", \"value\": \"M\"}]}], \"type\": \"and\"}}, {\"type\": \"subselection\", \"dimension\": \"patient\", \"constraint\": {\"type\": \"concept\", \"conceptCode\": \"Conditions-SNOMED:44054006\"}}]}\n"
     ]
    },
    {
     "data": {
      "text/html": [
       "<div>\n",
       "<style scoped>\n",
       "    .dataframe tbody tr th:only-of-type {\n",
       "        vertical-align: middle;\n",
       "    }\n",
       "\n",
       "    .dataframe tbody tr th {\n",
       "        vertical-align: top;\n",
       "    }\n",
       "\n",
       "    .dataframe thead th {\n",
       "        text-align: right;\n",
       "    }\n",
       "</style>\n",
       "<table border=\"1\" class=\"dataframe\">\n",
       "  <thead>\n",
       "    <tr style=\"text-align: right;\">\n",
       "      <th></th>\n",
       "      <th>concept.conceptCode</th>\n",
       "      <th>concept.conceptPath</th>\n",
       "      <th>concept.name</th>\n",
       "      <th>patient.age</th>\n",
       "      <th>patient.birthDate</th>\n",
       "      <th>patient.deathDate</th>\n",
       "      <th>patient.id</th>\n",
       "      <th>patient.inTrialId</th>\n",
       "      <th>patient.maritalStatus</th>\n",
       "      <th>patient.race</th>\n",
       "      <th>patient.religion</th>\n",
       "      <th>patient.sex</th>\n",
       "      <th>patient.sexCd</th>\n",
       "      <th>patient.subjectIds.SUBJ_ID</th>\n",
       "      <th>patient.trial</th>\n",
       "      <th>start time</th>\n",
       "      <th>stringValue</th>\n",
       "      <th>study.name</th>\n",
       "    </tr>\n",
       "  </thead>\n",
       "  <tbody>\n",
       "    <tr>\n",
       "      <th>0</th>\n",
       "      <td>Conditions-ICD10:J20</td>\n",
       "      <td>\\Conditions\\ICD10\\Acute bronchitis [J20]\\</td>\n",
       "      <td>Acute bronchitis [J20]</td>\n",
       "      <td>None</td>\n",
       "      <td>None</td>\n",
       "      <td>None</td>\n",
       "      <td>1178</td>\n",
       "      <td>None</td>\n",
       "      <td>None</td>\n",
       "      <td>None</td>\n",
       "      <td>None</td>\n",
       "      <td>male</td>\n",
       "      <td>M</td>\n",
       "      <td>cb653c5e-8f76-4568-b475-7a969819672a</td>\n",
       "      <td>cb653c5e-8f76-4568-b475-7a969819672a</td>\n",
       "      <td>2009-10-11T00:00:00Z</td>\n",
       "      <td>Acute bronchitis (disorder)</td>\n",
       "      <td>SYNTHETICMASS</td>\n",
       "    </tr>\n",
       "    <tr>\n",
       "      <th>1</th>\n",
       "      <td>Conditions-ICD10:J20</td>\n",
       "      <td>\\Conditions\\ICD10\\Acute bronchitis [J20]\\</td>\n",
       "      <td>Acute bronchitis [J20]</td>\n",
       "      <td>None</td>\n",
       "      <td>None</td>\n",
       "      <td>None</td>\n",
       "      <td>1178</td>\n",
       "      <td>None</td>\n",
       "      <td>None</td>\n",
       "      <td>None</td>\n",
       "      <td>None</td>\n",
       "      <td>male</td>\n",
       "      <td>M</td>\n",
       "      <td>cb653c5e-8f76-4568-b475-7a969819672a</td>\n",
       "      <td>cb653c5e-8f76-4568-b475-7a969819672a</td>\n",
       "      <td>2015-10-21T00:00:00Z</td>\n",
       "      <td>Acute bronchitis (disorder)</td>\n",
       "      <td>SYNTHETICMASS</td>\n",
       "    </tr>\n",
       "    <tr>\n",
       "      <th>2</th>\n",
       "      <td>Conditions-ICD10:I64</td>\n",
       "      <td>\\Conditions\\ICD10\\Stroke, not specified as hae...</td>\n",
       "      <td>Stroke, not specified as haemorrhage or infarc...</td>\n",
       "      <td>None</td>\n",
       "      <td>None</td>\n",
       "      <td>None</td>\n",
       "      <td>1178</td>\n",
       "      <td>None</td>\n",
       "      <td>None</td>\n",
       "      <td>None</td>\n",
       "      <td>None</td>\n",
       "      <td>male</td>\n",
       "      <td>M</td>\n",
       "      <td>cb653c5e-8f76-4568-b475-7a969819672a</td>\n",
       "      <td>cb653c5e-8f76-4568-b475-7a969819672a</td>\n",
       "      <td>2014-01-15T00:00:00Z</td>\n",
       "      <td>Stroke</td>\n",
       "      <td>SYNTHETICMASS</td>\n",
       "    </tr>\n",
       "    <tr>\n",
       "      <th>3</th>\n",
       "      <td>Conditions-ICD10:E11</td>\n",
       "      <td>\\Conditions\\ICD10\\Type 2 diabetes mellitus [E11]\\</td>\n",
       "      <td>Type 2 diabetes mellitus [E11]</td>\n",
       "      <td>None</td>\n",
       "      <td>None</td>\n",
       "      <td>None</td>\n",
       "      <td>1178</td>\n",
       "      <td>None</td>\n",
       "      <td>None</td>\n",
       "      <td>None</td>\n",
       "      <td>None</td>\n",
       "      <td>male</td>\n",
       "      <td>M</td>\n",
       "      <td>cb653c5e-8f76-4568-b475-7a969819672a</td>\n",
       "      <td>cb653c5e-8f76-4568-b475-7a969819672a</td>\n",
       "      <td>1998-05-08T00:00:00Z</td>\n",
       "      <td>Diabetes</td>\n",
       "      <td>SYNTHETICMASS</td>\n",
       "    </tr>\n",
       "    <tr>\n",
       "      <th>4</th>\n",
       "      <td>Conditions-SNOMED:10509002</td>\n",
       "      <td>\\Conditions\\SNOMED\\SNOMED CT Concept [13887500...</td>\n",
       "      <td>Acute bronchitis [10509002]</td>\n",
       "      <td>None</td>\n",
       "      <td>None</td>\n",
       "      <td>None</td>\n",
       "      <td>1178</td>\n",
       "      <td>None</td>\n",
       "      <td>None</td>\n",
       "      <td>None</td>\n",
       "      <td>None</td>\n",
       "      <td>male</td>\n",
       "      <td>M</td>\n",
       "      <td>cb653c5e-8f76-4568-b475-7a969819672a</td>\n",
       "      <td>cb653c5e-8f76-4568-b475-7a969819672a</td>\n",
       "      <td>2009-10-11T00:00:00Z</td>\n",
       "      <td>Acute bronchitis (disorder)</td>\n",
       "      <td>SYNTHETICMASS</td>\n",
       "    </tr>\n",
       "  </tbody>\n",
       "</table>\n",
       "</div>"
      ],
      "text/plain": [
       "          concept.conceptCode  \\\n",
       "0        Conditions-ICD10:J20   \n",
       "1        Conditions-ICD10:J20   \n",
       "2        Conditions-ICD10:I64   \n",
       "3        Conditions-ICD10:E11   \n",
       "4  Conditions-SNOMED:10509002   \n",
       "\n",
       "                                 concept.conceptPath  \\\n",
       "0          \\Conditions\\ICD10\\Acute bronchitis [J20]\\   \n",
       "1          \\Conditions\\ICD10\\Acute bronchitis [J20]\\   \n",
       "2  \\Conditions\\ICD10\\Stroke, not specified as hae...   \n",
       "3  \\Conditions\\ICD10\\Type 2 diabetes mellitus [E11]\\   \n",
       "4  \\Conditions\\SNOMED\\SNOMED CT Concept [13887500...   \n",
       "\n",
       "                                        concept.name patient.age  \\\n",
       "0                             Acute bronchitis [J20]        None   \n",
       "1                             Acute bronchitis [J20]        None   \n",
       "2  Stroke, not specified as haemorrhage or infarc...        None   \n",
       "3                     Type 2 diabetes mellitus [E11]        None   \n",
       "4                        Acute bronchitis [10509002]        None   \n",
       "\n",
       "  patient.birthDate patient.deathDate  patient.id patient.inTrialId  \\\n",
       "0              None              None        1178              None   \n",
       "1              None              None        1178              None   \n",
       "2              None              None        1178              None   \n",
       "3              None              None        1178              None   \n",
       "4              None              None        1178              None   \n",
       "\n",
       "  patient.maritalStatus patient.race patient.religion patient.sex  \\\n",
       "0                  None         None             None        male   \n",
       "1                  None         None             None        male   \n",
       "2                  None         None             None        male   \n",
       "3                  None         None             None        male   \n",
       "4                  None         None             None        male   \n",
       "\n",
       "  patient.sexCd            patient.subjectIds.SUBJ_ID  \\\n",
       "0             M  cb653c5e-8f76-4568-b475-7a969819672a   \n",
       "1             M  cb653c5e-8f76-4568-b475-7a969819672a   \n",
       "2             M  cb653c5e-8f76-4568-b475-7a969819672a   \n",
       "3             M  cb653c5e-8f76-4568-b475-7a969819672a   \n",
       "4             M  cb653c5e-8f76-4568-b475-7a969819672a   \n",
       "\n",
       "                          patient.trial            start time  \\\n",
       "0  cb653c5e-8f76-4568-b475-7a969819672a  2009-10-11T00:00:00Z   \n",
       "1  cb653c5e-8f76-4568-b475-7a969819672a  2015-10-21T00:00:00Z   \n",
       "2  cb653c5e-8f76-4568-b475-7a969819672a  2014-01-15T00:00:00Z   \n",
       "3  cb653c5e-8f76-4568-b475-7a969819672a  1998-05-08T00:00:00Z   \n",
       "4  cb653c5e-8f76-4568-b475-7a969819672a  2009-10-11T00:00:00Z   \n",
       "\n",
       "                   stringValue     study.name  \n",
       "0  Acute bronchitis (disorder)  SYNTHETICMASS  \n",
       "1  Acute bronchitis (disorder)  SYNTHETICMASS  \n",
       "2                       Stroke  SYNTHETICMASS  \n",
       "3                     Diabetes  SYNTHETICMASS  \n",
       "4  Acute bronchitis (disorder)  SYNTHETICMASS  "
      ]
     },
     "metadata": {},
     "output_type": "display_data"
    }
   ],
   "source": [
    "print(api.observations.counts(constraint=men_with_diabetes_constraint))\n",
    "display(api.patients(constraint=men_with_diabetes_constraint).dataframe.head())\n",
    "display(api.observations(constraint=men_with_diabetes_constraint).dataframe.head())"
   ]
  }
 ],
 "metadata": {
  "kernelspec": {
   "display_name": "Python (transmart)",
   "language": "python",
   "name": "transmart"
  },
  "language_info": {
   "codemirror_mode": {
    "name": "ipython",
    "version": 3
   },
   "file_extension": ".py",
   "mimetype": "text/x-python",
   "name": "python",
   "nbconvert_exporter": "python",
   "pygments_lexer": "ipython3",
   "version": "3.7.3"
  }
 },
 "nbformat": 4,
 "nbformat_minor": 2
}
