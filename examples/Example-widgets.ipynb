{
 "cells": [
  {
   "cell_type": "markdown",
   "metadata": {},
   "source": [
    "# transmart python client with JupyterLab integration\n",
    "A short demonstration on getting data from tranSMART into the Jupyter Notebook analytical environment."
   ]
  },
  {
   "cell_type": "code",
   "execution_count": 1,
   "metadata": {},
   "outputs": [],
   "source": [
    "import transmart as tm\n",
    "from transmart.api.v2.dashboard import Dashboard"
   ]
  },
  {
   "cell_type": "markdown",
   "metadata": {},
   "source": [
    "## Getting a user account\n",
    "\n",
    "Before being able to connect to our demo environment, make sure you have account in our user management system. You are able to self register.\n",
    "\n",
    "Link to create account: [KeyCloak registration](https://keycloak-dwh-test.thehyve.net/auth/realms/transmart/protocol/openid-connect/auth?response_type=code&client_id=transmart-client)\n",
    "\n",
    "If you are unable to create an account, you can use the dummy account and password: ``demo-user`` "
   ]
  },
  {
   "cell_type": "markdown",
   "metadata": {},
   "source": [
    "# User account details\n",
    "You can (optionally) fill in you user details here. "
   ]
  },
  {
   "cell_type": "code",
   "execution_count": 4,
   "metadata": {},
   "outputs": [],
   "source": [
    "username = None\n",
    "password = None  # Can be None, your KeyCloak password will be asked for."
   ]
  },
  {
   "cell_type": "markdown",
   "metadata": {},
   "source": [
    "First create a connection with a transmart instance with V2 api enabled. This could take a litlle time as some caches are built."
   ]
  },
  {
   "cell_type": "code",
   "execution_count": 2,
   "metadata": {},
   "outputs": [
    {
     "name": "stdout",
     "output_type": "stream",
     "text": [
      "https://transmart.thehyve.net/v2/studies\n",
      "https://transmart.thehyve.net/v2/tree_nodes?depth=0&counts=False&tags=True\n",
      "No valid cache found. Building indexes...\n",
      "Finished in 1.10 seconds\n",
      "https://transmart.thehyve.net/v2/pedigree/relation_types\n"
     ]
    }
   ],
   "source": [
    "api = tm.get_api(\n",
    "    host = 'https://transmart.thehyve.net',\n",
    "    kc_url = \"https://keycloak-dwh-test.thehyve.net\",\n",
    "    kc_realm = \"transmart\",\n",
    "    user=username, \n",
    "    password=password, \n",
    "    print_urls=True\n",
    ")"
   ]
  },
  {
   "cell_type": "markdown",
   "metadata": {},
   "source": [
    "The main objects to query transmart are created here. This `ObservationConstraint` object can be used specified and combined to create queries to the api."
   ]
  },
  {
   "cell_type": "code",
   "execution_count": 3,
   "metadata": {},
   "outputs": [
    {
     "data": {
      "text/plain": [
       "ObservationConstraint(concept='O1KP:NUM39', study='ORACLE_1000_PATIENT')"
      ]
     },
     "execution_count": 3,
     "metadata": {},
     "output_type": "execute_result"
    }
   ],
   "source": [
    "c = api.new_constraint(study='ORACLE_1000_PATIENT', concept='O1KP:NUM39')\n",
    "c"
   ]
  },
  {
   "cell_type": "markdown",
   "metadata": {},
   "source": [
    "An example call that gets the counts for the chosen constraints"
   ]
  },
  {
   "cell_type": "code",
   "execution_count": 4,
   "metadata": {},
   "outputs": [
    {
     "name": "stdout",
     "output_type": "stream",
     "text": [
      "https://transmart.thehyve.net/v2/observations/counts\n"
     ]
    },
    {
     "data": {
      "text/plain": [
       "{'observationCount': 1200, 'patientCount': 1200}"
      ]
     },
     "execution_count": 4,
     "metadata": {},
     "output_type": "execute_result"
    }
   ],
   "source": [
    "c.observations.counts()"
   ]
  },
  {
   "cell_type": "markdown",
   "metadata": {},
   "source": [
    "Further specify the constraint using intuitive attributes."
   ]
  },
  {
   "cell_type": "code",
   "execution_count": 5,
   "metadata": {},
   "outputs": [
    {
     "data": {
      "text/plain": [
       "ObservationConstraint(concept='O1KP:NUM39', min_value=15, study='ORACLE_1000_PATIENT')"
      ]
     },
     "execution_count": 5,
     "metadata": {},
     "output_type": "execute_result"
    }
   ],
   "source": [
    "c.min_value = 15\n",
    "c"
   ]
  },
  {
   "cell_type": "code",
   "execution_count": 6,
   "metadata": {},
   "outputs": [
    {
     "name": "stdout",
     "output_type": "stream",
     "text": [
      "https://transmart.thehyve.net/v2/observations/counts\n"
     ]
    },
    {
     "data": {
      "text/plain": [
       "{'observationCount': 202, 'patientCount': 202}"
      ]
     },
     "execution_count": 6,
     "metadata": {},
     "output_type": "execute_result"
    }
   ],
   "source": [
    "c.observations.counts()"
   ]
  },
  {
   "cell_type": "code",
   "execution_count": 7,
   "metadata": {},
   "outputs": [
    {
     "name": "stdout",
     "output_type": "stream",
     "text": [
      "Possible attributes to specify constraints:\n",
      "- concept\n",
      "- max_date_value\n",
      "- max_start_date\n",
      "- max_value\n",
      "- min_date_value\n",
      "- min_start_date\n",
      "- min_value\n",
      "- study\n",
      "- subject_set_id\n",
      "- trial_visit\n",
      "- value_list\n"
     ]
    }
   ],
   "source": [
    "print('Possible attributes to specify constraints:\\n- ', end='')\n",
    "print('\\n- '.join(sorted(c.params.keys())))"
   ]
  },
  {
   "cell_type": "code",
   "execution_count": 8,
   "metadata": {},
   "outputs": [
    {
     "name": "stdout",
     "output_type": "stream",
     "text": [
      "https://transmart.thehyve.net/v2/observations/aggregates_per_concept\n"
     ]
    },
    {
     "data": {
      "text/plain": [
       "{'aggregatesPerConcept': {'O1KP:NUM39': {'numericalValueAggregates': {'avg': 17.60090668316832,\n",
       "    'count': 202,\n",
       "    'max': 27.10521,\n",
       "    'min': 15.01558,\n",
       "    'stdDev': 2.4378601422759876}}}}"
      ]
     },
     "execution_count": 8,
     "metadata": {},
     "output_type": "execute_result"
    }
   ],
   "source": [
    "api.observations.aggregates_per_concept(c)"
   ]
  },
  {
   "cell_type": "code",
   "execution_count": 9,
   "metadata": {},
   "outputs": [
    {
     "name": "stdout",
     "output_type": "stream",
     "text": [
      "https://transmart.thehyve.net/v2/observations?constraint={\"args\": [{\"conceptCode\": \"O1KP:NUM39\", \"type\": \"concept\"}, {\"operator\": \">=\", \"value\": 15, \"type\": \"value\", \"valueType\": \"NUMERIC\"}, {\"studyId\": \"ORACLE_1000_PATIENT\", \"type\": \"study_name\"}], \"type\": \"and\"}&type=clinical\n"
     ]
    }
   ],
   "source": [
    "obs = api.observations(c)"
   ]
  },
  {
   "cell_type": "code",
   "execution_count": 10,
   "metadata": {},
   "outputs": [
    {
     "data": {
      "text/html": [
       "<div>\n",
       "<style scoped>\n",
       "    .dataframe tbody tr th:only-of-type {\n",
       "        vertical-align: middle;\n",
       "    }\n",
       "\n",
       "    .dataframe tbody tr th {\n",
       "        vertical-align: top;\n",
       "    }\n",
       "\n",
       "    .dataframe thead th {\n",
       "        text-align: right;\n",
       "    }\n",
       "</style>\n",
       "<table border=\"1\" class=\"dataframe\">\n",
       "  <thead>\n",
       "    <tr style=\"text-align: right;\">\n",
       "      <th></th>\n",
       "      <th>concept.conceptCode</th>\n",
       "      <th>concept.conceptPath</th>\n",
       "      <th>concept.name</th>\n",
       "      <th>numericValue</th>\n",
       "      <th>patient.age</th>\n",
       "      <th>patient.birthDate</th>\n",
       "      <th>patient.deathDate</th>\n",
       "      <th>patient.id</th>\n",
       "      <th>patient.inTrialId</th>\n",
       "      <th>patient.maritalStatus</th>\n",
       "      <th>patient.race</th>\n",
       "      <th>patient.religion</th>\n",
       "      <th>patient.sex</th>\n",
       "      <th>patient.sexCd</th>\n",
       "      <th>patient.trial</th>\n",
       "      <th>study.name</th>\n",
       "    </tr>\n",
       "  </thead>\n",
       "  <tbody>\n",
       "    <tr>\n",
       "      <th>0</th>\n",
       "      <td>O1KP:NUM39</td>\n",
       "      <td>\\Public Studies\\Oracle_1000_Patient\\Numerical ...</td>\n",
       "      <td>numerical_39</td>\n",
       "      <td>16.13731</td>\n",
       "      <td>50</td>\n",
       "      <td>None</td>\n",
       "      <td>None</td>\n",
       "      <td>-1475</td>\n",
       "      <td>subject_475</td>\n",
       "      <td>None</td>\n",
       "      <td>None</td>\n",
       "      <td>None</td>\n",
       "      <td>male</td>\n",
       "      <td>Male</td>\n",
       "      <td>ORACLE_1000_PATIENT</td>\n",
       "      <td>ORACLE_1000_PATIENT</td>\n",
       "    </tr>\n",
       "    <tr>\n",
       "      <th>1</th>\n",
       "      <td>O1KP:NUM39</td>\n",
       "      <td>\\Public Studies\\Oracle_1000_Patient\\Numerical ...</td>\n",
       "      <td>numerical_39</td>\n",
       "      <td>17.30936</td>\n",
       "      <td>50</td>\n",
       "      <td>None</td>\n",
       "      <td>None</td>\n",
       "      <td>-1714</td>\n",
       "      <td>subject_714</td>\n",
       "      <td>None</td>\n",
       "      <td>None</td>\n",
       "      <td>None</td>\n",
       "      <td>male</td>\n",
       "      <td>Male</td>\n",
       "      <td>ORACLE_1000_PATIENT</td>\n",
       "      <td>ORACLE_1000_PATIENT</td>\n",
       "    </tr>\n",
       "    <tr>\n",
       "      <th>2</th>\n",
       "      <td>O1KP:NUM39</td>\n",
       "      <td>\\Public Studies\\Oracle_1000_Patient\\Numerical ...</td>\n",
       "      <td>numerical_39</td>\n",
       "      <td>17.69275</td>\n",
       "      <td>50</td>\n",
       "      <td>None</td>\n",
       "      <td>None</td>\n",
       "      <td>-1253</td>\n",
       "      <td>subject_253</td>\n",
       "      <td>None</td>\n",
       "      <td>None</td>\n",
       "      <td>None</td>\n",
       "      <td>male</td>\n",
       "      <td>Male</td>\n",
       "      <td>ORACLE_1000_PATIENT</td>\n",
       "      <td>ORACLE_1000_PATIENT</td>\n",
       "    </tr>\n",
       "    <tr>\n",
       "      <th>3</th>\n",
       "      <td>O1KP:NUM39</td>\n",
       "      <td>\\Public Studies\\Oracle_1000_Patient\\Numerical ...</td>\n",
       "      <td>numerical_39</td>\n",
       "      <td>15.57817</td>\n",
       "      <td>50</td>\n",
       "      <td>None</td>\n",
       "      <td>None</td>\n",
       "      <td>-1787</td>\n",
       "      <td>subject_787</td>\n",
       "      <td>None</td>\n",
       "      <td>None</td>\n",
       "      <td>None</td>\n",
       "      <td>male</td>\n",
       "      <td>Male</td>\n",
       "      <td>ORACLE_1000_PATIENT</td>\n",
       "      <td>ORACLE_1000_PATIENT</td>\n",
       "    </tr>\n",
       "    <tr>\n",
       "      <th>4</th>\n",
       "      <td>O1KP:NUM39</td>\n",
       "      <td>\\Public Studies\\Oracle_1000_Patient\\Numerical ...</td>\n",
       "      <td>numerical_39</td>\n",
       "      <td>16.41986</td>\n",
       "      <td>50</td>\n",
       "      <td>None</td>\n",
       "      <td>None</td>\n",
       "      <td>-1827</td>\n",
       "      <td>subject_827</td>\n",
       "      <td>None</td>\n",
       "      <td>None</td>\n",
       "      <td>None</td>\n",
       "      <td>female</td>\n",
       "      <td>Female</td>\n",
       "      <td>ORACLE_1000_PATIENT</td>\n",
       "      <td>ORACLE_1000_PATIENT</td>\n",
       "    </tr>\n",
       "  </tbody>\n",
       "</table>\n",
       "</div>"
      ],
      "text/plain": [
       "  concept.conceptCode                                concept.conceptPath  \\\n",
       "0          O1KP:NUM39  \\Public Studies\\Oracle_1000_Patient\\Numerical ...   \n",
       "1          O1KP:NUM39  \\Public Studies\\Oracle_1000_Patient\\Numerical ...   \n",
       "2          O1KP:NUM39  \\Public Studies\\Oracle_1000_Patient\\Numerical ...   \n",
       "3          O1KP:NUM39  \\Public Studies\\Oracle_1000_Patient\\Numerical ...   \n",
       "4          O1KP:NUM39  \\Public Studies\\Oracle_1000_Patient\\Numerical ...   \n",
       "\n",
       "   concept.name  numericValue  patient.age patient.birthDate  \\\n",
       "0  numerical_39      16.13731           50              None   \n",
       "1  numerical_39      17.30936           50              None   \n",
       "2  numerical_39      17.69275           50              None   \n",
       "3  numerical_39      15.57817           50              None   \n",
       "4  numerical_39      16.41986           50              None   \n",
       "\n",
       "  patient.deathDate  patient.id patient.inTrialId patient.maritalStatus  \\\n",
       "0              None       -1475       subject_475                  None   \n",
       "1              None       -1714       subject_714                  None   \n",
       "2              None       -1253       subject_253                  None   \n",
       "3              None       -1787       subject_787                  None   \n",
       "4              None       -1827       subject_827                  None   \n",
       "\n",
       "  patient.race patient.religion patient.sex patient.sexCd  \\\n",
       "0         None             None        male          Male   \n",
       "1         None             None        male          Male   \n",
       "2         None             None        male          Male   \n",
       "3         None             None        male          Male   \n",
       "4         None             None      female        Female   \n",
       "\n",
       "         patient.trial           study.name  \n",
       "0  ORACLE_1000_PATIENT  ORACLE_1000_PATIENT  \n",
       "1  ORACLE_1000_PATIENT  ORACLE_1000_PATIENT  \n",
       "2  ORACLE_1000_PATIENT  ORACLE_1000_PATIENT  \n",
       "3  ORACLE_1000_PATIENT  ORACLE_1000_PATIENT  \n",
       "4  ORACLE_1000_PATIENT  ORACLE_1000_PATIENT  "
      ]
     },
     "execution_count": 10,
     "metadata": {},
     "output_type": "execute_result"
    }
   ],
   "source": [
    "obs.dataframe.head()"
   ]
  },
  {
   "cell_type": "code",
   "execution_count": null,
   "metadata": {},
   "outputs": [],
   "source": []
  },
  {
   "cell_type": "markdown",
   "metadata": {},
   "source": [
    "## Integration with widgets and bqplot"
   ]
  },
  {
   "cell_type": "markdown",
   "metadata": {},
   "source": [
    "Methods `find_concept()` and `interact()` can be used to visually create and modify a constraint object."
   ]
  },
  {
   "cell_type": "code",
   "execution_count": null,
   "metadata": {},
   "outputs": [],
   "source": [
    "c.find_concept('study:oracle')"
   ]
  },
  {
   "cell_type": "code",
   "execution_count": null,
   "metadata": {},
   "outputs": [],
   "source": [
    "c.interact()"
   ]
  },
  {
   "cell_type": "markdown",
   "metadata": {},
   "source": [
    "And there is dashboard for exploration."
   ]
  },
  {
   "cell_type": "code",
   "execution_count": null,
   "metadata": {},
   "outputs": [],
   "source": [
    "dash = Dashboard(api, patients=c)"
   ]
  },
  {
   "cell_type": "code",
   "execution_count": null,
   "metadata": {},
   "outputs": [],
   "source": [
    "dash.get()"
   ]
  },
  {
   "cell_type": "code",
   "execution_count": null,
   "metadata": {},
   "outputs": [],
   "source": []
  }
 ],
 "metadata": {
  "kernelspec": {
   "display_name": "Python 3",
   "language": "python",
   "name": "python3"
  },
  "language_info": {
   "codemirror_mode": {
    "name": "ipython",
    "version": 3
   },
   "file_extension": ".py",
   "mimetype": "text/x-python",
   "name": "python",
   "nbconvert_exporter": "python",
   "pygments_lexer": "ipython3",
   "version": "3.5.1"
  }
 },
 "nbformat": 4,
 "nbformat_minor": 2
}
