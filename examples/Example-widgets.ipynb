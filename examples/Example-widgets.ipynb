{
 "cells": [
  {
   "cell_type": "markdown",
   "metadata": {},
   "source": [
    "# transmart python client with JupyterLab integration\n",
    "A short demonstration on getting data from tranSMART into the Jupyter Notebook analytical environment."
   ]
  },
  {
   "cell_type": "code",
   "execution_count": 1,
   "metadata": {},
   "outputs": [],
   "source": [
    "import transmart as tm\n",
    "from transmart.api.v2.dashboard import Dashboard"
   ]
  },
  {
   "cell_type": "markdown",
   "metadata": {},
   "source": [
    "## Getting a user account\n",
    "\n",
    "Before being able to connect to our demo environment, make sure you have account in our user management system. You are able to self register.\n",
    "\n",
    "Link to create account: [KeyCloak registration](https://keycloak-dwh-test.thehyve.net/auth/realms/transmart/protocol/openid-connect/auth?response_type=code&client_id=transmart-client)\n",
    "\n",
    "If you are unable to create an account, you can use the dummy account and password: ``demo-user`` "
   ]
  },
  {
   "cell_type": "markdown",
   "metadata": {},
   "source": [
    "# User account details\n",
    "You have to fill in you user details here. "
   ]
  },
  {
   "cell_type": "code",
   "execution_count": 2,
   "metadata": {},
   "outputs": [],
   "source": [
    "username = None\n",
    "password = None"
   ]
  },
  {
   "cell_type": "markdown",
   "metadata": {},
   "source": [
    "Generate an offline token for your user:"
   ]
  },
  {
   "cell_type": "code",
   "execution_count": 3,
   "metadata": {},
   "outputs": [
    {
     "data": {
      "text/plain": [
       "'eyJhbGciOiJSUzI1NiIsInR5cCIgOiAiSldUIiwia2lkIiA6ICJ0Mko0OGRxWU9JY1BMYkQ3Q091UjktSFF6ZFo3TnlHS3hKcHdZeFprNlRFIn0.eyJqdGkiOiJlYzhiZGE1ZS01YTk3LTQwOTEtYTM1OS1hNzdmMDU3ODg5YzIiLCJleHAiOjAsIm5iZiI6MCwiaWF0IjoxNTYyMTQwODM0LCJpc3MiOiJodHRwczovL2tleWNsb2FrLWR3aC10ZXN0LnRoZWh5dmUubmV0L2F1dGgvcmVhbG1zL3RyYW5zbWFydC1kZXYiLCJhdWQiOiJ0cmFuc21hcnQtY2xpZW50Iiwic3ViIjoiZDkyZWEyYjItYmE4OC00MTY5LWIzOTItM2MyYWMyNDFmMWEwIiwidHlwIjoiT2ZmbGluZSIsImF6cCI6InRyYW5zbWFydC1jbGllbnQiLCJhdXRoX3RpbWUiOjAsInNlc3Npb25fc3RhdGUiOiJhZTRmOWRmNi0zODI2LTRmYjQtYmZlNi1kNGUxZGExNmQwMzEiLCJyZWFsbV9hY2Nlc3MiOnsicm9sZXMiOlsib2ZmbGluZV9hY2Nlc3MiLCJ1bWFfYXV0aG9yaXphdGlvbiJdfSwicmVzb3VyY2VfYWNjZXNzIjp7InJlYWxtLW1hbmFnZW1lbnQiOnsicm9sZXMiOlsiaW1wZXJzb25hdGlvbiIsInZpZXctdXNlcnMiLCJxdWVyeS1ncm91cHMiLCJxdWVyeS11c2VycyJdfSwidHJhbnNtYXJ0LWNsaWVudCI6eyJyb2xlcyI6WyJST0xFX0FETUlOIl19LCJhY2NvdW50Ijp7InJvbGVzIjpbIm1hbmFnZS1hY2NvdW50IiwibWFuYWdlLWFjY291bnQtbGlua3MiLCJ2aWV3LXByb2ZpbGUiXX19fQ.TD6pE-nekr5s_MgLOa9CJcRYGcYFtJrKe8JWt9iDSgu2MQ6WZvh-GVphytDy4Qcvc8tW3jgh2XnWWW_LN-auF6D7dcnRxMDzBW6XGOgBexetOOlno54WfjNL63p7QFwRtJcmcsi7bv2eXkYjD9b4o-QjK7VljxdU2hk9aJP26UOkteOXEYbSsfsFZIs3_OqG3KVryaex_lB98vt6MJZ8IYVUgpE77w5B87iYaCtu84xNEDCA9v7J1tQoSbk_oGdzJAVxKt1Wqlo9W3N5WkGJLaOgxNYMoms5Wjf1mDMA5bJu0ii5aRQSuYOVhXokEzdT3d0VwQxd3GeVKC6A6QL34w'"
      ]
     },
     "execution_count": 3,
     "metadata": {},
     "output_type": "execute_result"
    }
   ],
   "source": [
    "import requests\n",
    "\n",
    "kc_token_url = \"https://keycloak-dwh-test.thehyve.net/auth/realms/transmart-dev/protocol/openid-connect/token\"\n",
    "kc_client_id= \"transmart-client\"\n",
    "\n",
    "r = requests.post(url=kc_token_url,\n",
    "                  data=dict(grant_type='password',\n",
    "                            client_id=kc_client_id,\n",
    "                            scope= 'offline_access',\n",
    "                            username=username,\n",
    "                            password=password\n",
    "                           )\n",
    "                 )\n",
    "offline_token = r.json().get('refresh_token')\n",
    "offline_token"
   ]
  },
  {
   "cell_type": "markdown",
   "metadata": {},
   "source": [
    "First create a connection with a transmart instance with V2 api enabled. This could take a litlle time as some caches are built."
   ]
  },
  {
   "cell_type": "code",
   "execution_count": 4,
   "metadata": {},
   "outputs": [
    {
     "name": "stdout",
     "output_type": "stream",
     "text": [
      "https://transmart-dev.thehyve.net/v2/studies\n",
      "https://transmart-dev.thehyve.net/v2/tree_nodes?depth=0&counts=False&tags=True\n",
      "No valid cache found. Building indexes...\n",
      "Finished in 0.24 seconds\n",
      "https://transmart-dev.thehyve.net/v2/pedigree/relation_types\n"
     ]
    }
   ],
   "source": [
    "api = tm.get_api(\n",
    "    host = 'https://transmart-dev.thehyve.net',\n",
    "    kc_url = \"https://keycloak-dwh-test.thehyve.net\",\n",
    "    kc_realm = \"transmart-dev\",\n",
    "    offline_token = offline_token,\n",
    "    print_urls=True\n",
    ")"
   ]
  },
  {
   "cell_type": "markdown",
   "metadata": {},
   "source": [
    "The main objects to query transmart are created here. This `ObservationConstraint` object can be used specified and combined to create queries to the api."
   ]
  },
  {
   "cell_type": "code",
   "execution_count": 5,
   "metadata": {},
   "outputs": [
    {
     "data": {
      "text/plain": [
       "ObservationConstraint(concept='O1KP:NUM39', study='ORACLE_1000_PATIENT')"
      ]
     },
     "execution_count": 5,
     "metadata": {},
     "output_type": "execute_result"
    }
   ],
   "source": [
    "c = api.new_constraint(study='ORACLE_1000_PATIENT', concept='O1KP:NUM39')\n",
    "c"
   ]
  },
  {
   "cell_type": "markdown",
   "metadata": {},
   "source": [
    "An example call that gets the counts for the chosen constraints"
   ]
  },
  {
   "cell_type": "code",
   "execution_count": 6,
   "metadata": {},
   "outputs": [
    {
     "name": "stdout",
     "output_type": "stream",
     "text": [
      "https://transmart-dev.thehyve.net/v2/observations/counts\n"
     ]
    },
    {
     "data": {
      "text/plain": [
       "{'observationCount': 1200, 'patientCount': 1200}"
      ]
     },
     "execution_count": 6,
     "metadata": {},
     "output_type": "execute_result"
    }
   ],
   "source": [
    "c.observations.counts()"
   ]
  },
  {
   "cell_type": "markdown",
   "metadata": {},
   "source": [
    "Further specify the constraint using intuitive attributes."
   ]
  },
  {
   "cell_type": "code",
   "execution_count": 7,
   "metadata": {},
   "outputs": [
    {
     "data": {
      "text/plain": [
       "ObservationConstraint(concept='O1KP:NUM39', study='ORACLE_1000_PATIENT', min_value=15)"
      ]
     },
     "execution_count": 7,
     "metadata": {},
     "output_type": "execute_result"
    }
   ],
   "source": [
    "c.min_value = 15\n",
    "c"
   ]
  },
  {
   "cell_type": "code",
   "execution_count": 8,
   "metadata": {},
   "outputs": [
    {
     "name": "stdout",
     "output_type": "stream",
     "text": [
      "https://transmart-dev.thehyve.net/v2/observations/counts\n"
     ]
    },
    {
     "data": {
      "text/plain": [
       "{'observationCount': 202, 'patientCount': 202}"
      ]
     },
     "execution_count": 8,
     "metadata": {},
     "output_type": "execute_result"
    }
   ],
   "source": [
    "c.observations.counts()"
   ]
  },
  {
   "cell_type": "code",
   "execution_count": 9,
   "metadata": {},
   "outputs": [
    {
     "name": "stdout",
     "output_type": "stream",
     "text": [
      "Possible attributes to specify constraints:\n",
      "- concept\n",
      "- max_date_value\n",
      "- max_start_date\n",
      "- max_value\n",
      "- min_date_value\n",
      "- min_start_date\n",
      "- min_value\n",
      "- study\n",
      "- subject_set_id\n",
      "- trial_visit\n",
      "- value_list\n"
     ]
    }
   ],
   "source": [
    "print('Possible attributes to specify constraints:\\n- ', end='')\n",
    "print('\\n- '.join(sorted(c.params.keys())))"
   ]
  },
  {
   "cell_type": "code",
   "execution_count": 10,
   "metadata": {},
   "outputs": [
    {
     "name": "stdout",
     "output_type": "stream",
     "text": [
      "https://transmart-dev.thehyve.net/v2/observations/aggregates_per_concept\n"
     ]
    },
    {
     "data": {
      "text/plain": [
       "{'aggregatesPerConcept': {'O1KP:NUM39': {'numericalValueAggregates': {'avg': 17.600906671769305,\n",
       "    'count': 202,\n",
       "    'max': 27.1052065269,\n",
       "    'min': 15.0155800246,\n",
       "    'stdDev': 2.437859947351904}}}}"
      ]
     },
     "execution_count": 10,
     "metadata": {},
     "output_type": "execute_result"
    }
   ],
   "source": [
    "api.observations.aggregates_per_concept(c)"
   ]
  },
  {
   "cell_type": "code",
   "execution_count": 11,
   "metadata": {
    "scrolled": true
   },
   "outputs": [
    {
     "name": "stdout",
     "output_type": "stream",
     "text": [
      "https://transmart-dev.thehyve.net/v2/observations?type=clinical&constraint={\"args\": [{\"type\": \"concept\", \"conceptCode\": \"O1KP:NUM39\"}, {\"type\": \"study_name\", \"studyId\": \"ORACLE_1000_PATIENT\"}, {\"type\": \"value\", \"valueType\": \"NUMERIC\", \"operator\": \">=\", \"value\": 15}], \"type\": \"and\"}\n"
     ]
    }
   ],
   "source": [
    "obs = api.observations(c)"
   ]
  },
  {
   "cell_type": "code",
   "execution_count": 12,
   "metadata": {},
   "outputs": [
    {
     "data": {
      "text/html": [
       "<div>\n",
       "<style scoped>\n",
       "    .dataframe tbody tr th:only-of-type {\n",
       "        vertical-align: middle;\n",
       "    }\n",
       "\n",
       "    .dataframe tbody tr th {\n",
       "        vertical-align: top;\n",
       "    }\n",
       "\n",
       "    .dataframe thead th {\n",
       "        text-align: right;\n",
       "    }\n",
       "</style>\n",
       "<table border=\"1\" class=\"dataframe\">\n",
       "  <thead>\n",
       "    <tr style=\"text-align: right;\">\n",
       "      <th></th>\n",
       "      <th>concept.conceptCode</th>\n",
       "      <th>concept.conceptPath</th>\n",
       "      <th>concept.name</th>\n",
       "      <th>numericValue</th>\n",
       "      <th>patient.age</th>\n",
       "      <th>patient.birthDate</th>\n",
       "      <th>patient.deathDate</th>\n",
       "      <th>patient.id</th>\n",
       "      <th>patient.inTrialId</th>\n",
       "      <th>patient.maritalStatus</th>\n",
       "      <th>patient.race</th>\n",
       "      <th>patient.religion</th>\n",
       "      <th>patient.sex</th>\n",
       "      <th>patient.sexCd</th>\n",
       "      <th>patient.subjectIds.SUBJ_ID</th>\n",
       "      <th>patient.trial</th>\n",
       "      <th>study.name</th>\n",
       "    </tr>\n",
       "  </thead>\n",
       "  <tbody>\n",
       "    <tr>\n",
       "      <th>0</th>\n",
       "      <td>O1KP:NUM39</td>\n",
       "      <td>\\Public Studies\\Oracle_1000_Patient\\Numerical ...</td>\n",
       "      <td>numerical_39</td>\n",
       "      <td>17.852166</td>\n",
       "      <td>65</td>\n",
       "      <td>None</td>\n",
       "      <td>None</td>\n",
       "      <td>-2199</td>\n",
       "      <td>subject_1199</td>\n",
       "      <td>None</td>\n",
       "      <td>None</td>\n",
       "      <td>None</td>\n",
       "      <td>male</td>\n",
       "      <td>Male</td>\n",
       "      <td>O1KP:2199</td>\n",
       "      <td>ORACLE_1000_PATIENT</td>\n",
       "      <td>ORACLE_1000_PATIENT</td>\n",
       "    </tr>\n",
       "    <tr>\n",
       "      <th>1</th>\n",
       "      <td>O1KP:NUM39</td>\n",
       "      <td>\\Public Studies\\Oracle_1000_Patient\\Numerical ...</td>\n",
       "      <td>numerical_39</td>\n",
       "      <td>15.961849</td>\n",
       "      <td>65</td>\n",
       "      <td>None</td>\n",
       "      <td>None</td>\n",
       "      <td>-2198</td>\n",
       "      <td>subject_1198</td>\n",
       "      <td>None</td>\n",
       "      <td>None</td>\n",
       "      <td>None</td>\n",
       "      <td>female</td>\n",
       "      <td>Female</td>\n",
       "      <td>O1KP:2198</td>\n",
       "      <td>ORACLE_1000_PATIENT</td>\n",
       "      <td>ORACLE_1000_PATIENT</td>\n",
       "    </tr>\n",
       "    <tr>\n",
       "      <th>2</th>\n",
       "      <td>O1KP:NUM39</td>\n",
       "      <td>\\Public Studies\\Oracle_1000_Patient\\Numerical ...</td>\n",
       "      <td>numerical_39</td>\n",
       "      <td>16.056566</td>\n",
       "      <td>65</td>\n",
       "      <td>None</td>\n",
       "      <td>None</td>\n",
       "      <td>-2196</td>\n",
       "      <td>subject_1196</td>\n",
       "      <td>None</td>\n",
       "      <td>None</td>\n",
       "      <td>None</td>\n",
       "      <td>female</td>\n",
       "      <td>Female</td>\n",
       "      <td>O1KP:2196</td>\n",
       "      <td>ORACLE_1000_PATIENT</td>\n",
       "      <td>ORACLE_1000_PATIENT</td>\n",
       "    </tr>\n",
       "    <tr>\n",
       "      <th>3</th>\n",
       "      <td>O1KP:NUM39</td>\n",
       "      <td>\\Public Studies\\Oracle_1000_Patient\\Numerical ...</td>\n",
       "      <td>numerical_39</td>\n",
       "      <td>19.280176</td>\n",
       "      <td>65</td>\n",
       "      <td>None</td>\n",
       "      <td>None</td>\n",
       "      <td>-2193</td>\n",
       "      <td>subject_1193</td>\n",
       "      <td>None</td>\n",
       "      <td>None</td>\n",
       "      <td>None</td>\n",
       "      <td>female</td>\n",
       "      <td>Female</td>\n",
       "      <td>O1KP:2193</td>\n",
       "      <td>ORACLE_1000_PATIENT</td>\n",
       "      <td>ORACLE_1000_PATIENT</td>\n",
       "    </tr>\n",
       "    <tr>\n",
       "      <th>4</th>\n",
       "      <td>O1KP:NUM39</td>\n",
       "      <td>\\Public Studies\\Oracle_1000_Patient\\Numerical ...</td>\n",
       "      <td>numerical_39</td>\n",
       "      <td>15.829366</td>\n",
       "      <td>65</td>\n",
       "      <td>None</td>\n",
       "      <td>None</td>\n",
       "      <td>-2189</td>\n",
       "      <td>subject_1189</td>\n",
       "      <td>None</td>\n",
       "      <td>None</td>\n",
       "      <td>None</td>\n",
       "      <td>female</td>\n",
       "      <td>Female</td>\n",
       "      <td>O1KP:2189</td>\n",
       "      <td>ORACLE_1000_PATIENT</td>\n",
       "      <td>ORACLE_1000_PATIENT</td>\n",
       "    </tr>\n",
       "  </tbody>\n",
       "</table>\n",
       "</div>"
      ],
      "text/plain": [
       "  concept.conceptCode                                concept.conceptPath  \\\n",
       "0          O1KP:NUM39  \\Public Studies\\Oracle_1000_Patient\\Numerical ...   \n",
       "1          O1KP:NUM39  \\Public Studies\\Oracle_1000_Patient\\Numerical ...   \n",
       "2          O1KP:NUM39  \\Public Studies\\Oracle_1000_Patient\\Numerical ...   \n",
       "3          O1KP:NUM39  \\Public Studies\\Oracle_1000_Patient\\Numerical ...   \n",
       "4          O1KP:NUM39  \\Public Studies\\Oracle_1000_Patient\\Numerical ...   \n",
       "\n",
       "   concept.name  numericValue  patient.age patient.birthDate  \\\n",
       "0  numerical_39     17.852166           65              None   \n",
       "1  numerical_39     15.961849           65              None   \n",
       "2  numerical_39     16.056566           65              None   \n",
       "3  numerical_39     19.280176           65              None   \n",
       "4  numerical_39     15.829366           65              None   \n",
       "\n",
       "  patient.deathDate  patient.id patient.inTrialId patient.maritalStatus  \\\n",
       "0              None       -2199      subject_1199                  None   \n",
       "1              None       -2198      subject_1198                  None   \n",
       "2              None       -2196      subject_1196                  None   \n",
       "3              None       -2193      subject_1193                  None   \n",
       "4              None       -2189      subject_1189                  None   \n",
       "\n",
       "  patient.race patient.religion patient.sex patient.sexCd  \\\n",
       "0         None             None        male          Male   \n",
       "1         None             None      female        Female   \n",
       "2         None             None      female        Female   \n",
       "3         None             None      female        Female   \n",
       "4         None             None      female        Female   \n",
       "\n",
       "  patient.subjectIds.SUBJ_ID        patient.trial           study.name  \n",
       "0                  O1KP:2199  ORACLE_1000_PATIENT  ORACLE_1000_PATIENT  \n",
       "1                  O1KP:2198  ORACLE_1000_PATIENT  ORACLE_1000_PATIENT  \n",
       "2                  O1KP:2196  ORACLE_1000_PATIENT  ORACLE_1000_PATIENT  \n",
       "3                  O1KP:2193  ORACLE_1000_PATIENT  ORACLE_1000_PATIENT  \n",
       "4                  O1KP:2189  ORACLE_1000_PATIENT  ORACLE_1000_PATIENT  "
      ]
     },
     "execution_count": 12,
     "metadata": {},
     "output_type": "execute_result"
    }
   ],
   "source": [
    "obs.dataframe.head()"
   ]
  },
  {
   "cell_type": "code",
   "execution_count": null,
   "metadata": {},
   "outputs": [],
   "source": []
  },
  {
   "cell_type": "markdown",
   "metadata": {},
   "source": [
    "## Integration with widgets and bqplot"
   ]
  },
  {
   "cell_type": "markdown",
   "metadata": {},
   "source": [
    "Methods `find_concept()` and `interact()` can be used to visually create and modify a constraint object."
   ]
  },
  {
   "cell_type": "code",
   "execution_count": 13,
   "metadata": {},
   "outputs": [
    {
     "data": {
      "application/vnd.jupyter.widget-view+json": {
       "model_id": "47ed8103eff248c88a6560030508ea86",
       "version_major": 2,
       "version_minor": 0
      },
      "text/plain": [
       "VBox(children=(Button(description='Hide', style=ButtonStyle()), VBox(children=(HBox(children=(Text(value='stud…"
      ]
     },
     "metadata": {},
     "output_type": "display_data"
    }
   ],
   "source": [
    "c.find_concept('study:oracle')"
   ]
  },
  {
   "cell_type": "code",
   "execution_count": 14,
   "metadata": {},
   "outputs": [
    {
     "data": {
      "application/vnd.jupyter.widget-view+json": {
       "model_id": "80c78710c0c14d8abad40c89619f39be",
       "version_major": 2,
       "version_minor": 0
      },
      "text/plain": [
       "VBox(children=(HBox(children=(Button(description='Hide', style=ButtonStyle()), HTML(value=''), Output())), VBo…"
      ]
     },
     "metadata": {},
     "output_type": "display_data"
    }
   ],
   "source": [
    "c.interact()"
   ]
  },
  {
   "cell_type": "markdown",
   "metadata": {},
   "source": [
    "And there is dashboard for exploration."
   ]
  },
  {
   "cell_type": "code",
   "execution_count": 15,
   "metadata": {},
   "outputs": [
    {
     "name": "stdout",
     "output_type": "stream",
     "text": [
      "https://transmart-dev.thehyve.net/v2/patient_sets?name=ObservationConstraint(concept='O1KP:NUM39', study='ORACLE_1000_PATIENT', min_value=15)\n",
      "https://transmart-dev.thehyve.net/v2/observations/counts_per_study_and_concept\n"
     ]
    }
   ],
   "source": [
    "dash = Dashboard(api, patients=c)"
   ]
  },
  {
   "cell_type": "code",
   "execution_count": 16,
   "metadata": {},
   "outputs": [
    {
     "data": {
      "application/vnd.jupyter.widget-view+json": {
       "model_id": "6b9d53903e6d489a89eeb6772082d1e4",
       "version_major": 2,
       "version_minor": 0
      },
      "text/plain": [
       "VBox(children=(Box(layout=Layout(flex_flow='row wrap')), IntProgress(value=10, max=10), Box(layout=Layout(flex…"
      ]
     },
     "metadata": {},
     "output_type": "display_data"
    }
   ],
   "source": [
    "dash.get()"
   ]
  },
  {
   "cell_type": "code",
   "execution_count": null,
   "metadata": {},
   "outputs": [],
   "source": []
  }
 ],
 "metadata": {
  "kernelspec": {
   "display_name": "Python 3",
   "language": "python",
   "name": "python3"
  },
  "language_info": {
   "codemirror_mode": {
    "name": "ipython",
    "version": 3
   },
   "file_extension": ".py",
   "mimetype": "text/x-python",
   "name": "python",
   "nbconvert_exporter": "python",
   "pygments_lexer": "ipython3",
   "version": "3.6.7"
  }
 },
 "nbformat": 4,
 "nbformat_minor": 2
}
